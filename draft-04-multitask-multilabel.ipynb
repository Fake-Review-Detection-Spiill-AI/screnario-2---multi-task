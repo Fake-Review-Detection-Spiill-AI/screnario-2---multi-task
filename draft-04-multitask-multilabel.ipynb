{
  "metadata": {
    "kernelspec": {
      "language": "python",
      "display_name": "Python 3",
      "name": "python3"
    },
    "language_info": {
      "name": "python",
      "version": "3.10.13",
      "mimetype": "text/x-python",
      "codemirror_mode": {
        "name": "ipython",
        "version": 3
      },
      "pygments_lexer": "ipython3",
      "nbconvert_exporter": "python",
      "file_extension": ".py"
    },
    "kaggle": {
      "accelerator": "none",
      "dataSources": [
        {
          "sourceId": 2284480,
          "sourceType": "datasetVersion",
          "datasetId": 1376345
        },
        {
          "sourceId": 8519560,
          "sourceType": "datasetVersion",
          "datasetId": 5086703
        }
      ],
      "dockerImageVersionId": 30698,
      "isInternetEnabled": true,
      "language": "python",
      "sourceType": "notebook",
      "isGpuEnabled": false
    },
    "colab": {
      "provenance": [],
      "include_colab_link": true
    }
  },
  "nbformat_minor": 0,
  "nbformat": 4,
  "cells": [
    {
      "cell_type": "markdown",
      "metadata": {
        "id": "view-in-github",
        "colab_type": "text"
      },
      "source": [
        "<a href=\"https://colab.research.google.com/github/shobrunjb/screnario-2---multi-task/blob/main/draft-04-multitask-multilabel.ipynb\" target=\"_parent\"><img src=\"https://colab.research.google.com/assets/colab-badge.svg\" alt=\"Open In Colab\"/></a>"
      ]
    },
    {
      "cell_type": "code",
      "source": [
        "#### This Python 3 environment comes with many helpful analytics libraries installed\n",
        "# It is defined by the kaggle/python Docker image: https://github.com/kaggle/docker-python\n",
        "# For example, here's several helpful packages to load\n",
        "\n",
        "!pip install Sastrawi\n",
        "!pip install swifter\n",
        "!pip install emoji\n",
        "import pandas as pd\n",
        "import numpy as np\n",
        "import re\n",
        "import emoji\n",
        "import string\n",
        "import seaborn as sns\n",
        "import matplotlib.pyplot as plt\n",
        "import swifter\n",
        "from sklearn.utils import resample\n",
        "from nltk.tokenize import word_tokenize\n",
        "from nltk.probability import FreqDist\n",
        "from nltk.corpus import stopwords\n",
        "from Sastrawi.Stemmer.StemmerFactory import StemmerFactory\n",
        "from collections import Counter\n",
        "from wordcloud import WordCloud\n",
        "from tqdm import tqdm\n",
        "\n",
        "# Input data files are available in the read-only \"../input/\" directory\n",
        "# For example, running this (by clicking run or pressing Shift+Enter) will list all files under the input directory\n",
        "\n",
        "import os\n",
        "for dirname, _, filenames in os.walk('/kaggle/input'):\n",
        "    for filename in filenames:\n",
        "        print(os.path.join(dirname, filename))\n",
        "\n",
        "# You can write up to 20GB to the current directory (/kaggle/working/) that gets preserved as output when you create a version using \"Save & Run All\"\n",
        "# You can also write temporary files to /kaggle/temp/, but they won't be saved outside of the current session"
      ],
      "metadata": {
        "_uuid": "8f2839f25d086af736a60e9eeb907d3b93b6e0e5",
        "_cell_guid": "b1076dfc-b9ad-4769-8c92-a6c4dae69d19",
        "execution": {
          "iopub.status.busy": "2024-05-28T00:00:38.141641Z",
          "iopub.execute_input": "2024-05-28T00:00:38.142180Z",
          "iopub.status.idle": "2024-05-28T00:01:32.811679Z",
          "shell.execute_reply.started": "2024-05-28T00:00:38.142140Z",
          "shell.execute_reply": "2024-05-28T00:01:32.810394Z"
        },
        "trusted": true,
        "id": "7gFdwVxTMrcy"
      },
      "execution_count": null,
      "outputs": []
    },
    {
      "cell_type": "code",
      "source": [
        "# Loading Essential libraries\n",
        "import warnings\n",
        "warnings.filterwarnings('ignore')\n",
        "%config InlineBackend.figure_format = 'retina'\n",
        "%config Completer.use_jedi = False # this to force autocompletion"
      ],
      "metadata": {
        "execution": {
          "iopub.status.busy": "2024-05-28T00:01:32.814804Z",
          "iopub.execute_input": "2024-05-28T00:01:32.816420Z",
          "iopub.status.idle": "2024-05-28T00:01:32.833970Z",
          "shell.execute_reply.started": "2024-05-28T00:01:32.816380Z",
          "shell.execute_reply": "2024-05-28T00:01:32.832371Z"
        },
        "trusted": true,
        "id": "6M1Wz1IdMrc0"
      },
      "execution_count": null,
      "outputs": []
    },
    {
      "cell_type": "code",
      "source": [
        "df = pd.read_csv('https://raw.githubusercontent.com/Fake-Review-Detection-Spiill-AI/screnario-2---multi-task/main/draft02_dataset_review_pribadi.csv',)\n",
        "df.head()"
      ],
      "metadata": {
        "execution": {
          "iopub.status.busy": "2024-05-28T00:01:32.835805Z",
          "iopub.execute_input": "2024-05-28T00:01:32.836247Z",
          "iopub.status.idle": "2024-05-28T00:01:32.879336Z",
          "shell.execute_reply.started": "2024-05-28T00:01:32.836214Z",
          "shell.execute_reply": "2024-05-28T00:01:32.878157Z"
        },
        "trusted": true,
        "id": "MZRjQBQ_Mrc0",
        "outputId": "5883e34c-4896-4d51-a0dd-945e54ba1733",
        "colab": {
          "base_uri": "https://localhost:8080/",
          "height": 206
        }
      },
      "execution_count": 16,
      "outputs": [
        {
          "output_type": "execute_result",
          "data": {
            "text/plain": [
              "        username  rate                 date    label  sentimen  \\\n",
              "0    ziaprlfauzi     4  21-05-2024 03:08 AM     fake  positive   \n",
              "1         mnisfa     4  20-05-2024 04:13 PM     fake  positive   \n",
              "2  amandabilla98     4  20-05-2024 07:33 AM  trusted  positive   \n",
              "3     mtraandita     3  19-05-2024 01:36 PM  trusted   neutral   \n",
              "4  Miftahuljahra     2  18-05-2024 06:38 AM  trusted  negative   \n",
              "\n",
              "                                             reviews           produk  \n",
              "0  Suka banget pake emina ini dr jaman kuliah sam...  Emina Sunscreen  \n",
              "1  sunscreen yang ringan banget\\nengga lengket da...  Emina Sunscreen  \n",
              "2  sunscreen jaman kuliah, cari nya gampang ada d...  Emina Sunscreen  \n",
              "3  Waktu smp aku pakai ss ini selama ±2 tahun, te...  Emina Sunscreen  \n",
              "4  Aku ga terlalu cocok pake produk ini terlebih ...  Emina Sunscreen  "
            ],
            "text/html": [
              "\n",
              "  <div id=\"df-cde394d3-16d6-4191-b6e3-7f28d79269f0\" class=\"colab-df-container\">\n",
              "    <div>\n",
              "<style scoped>\n",
              "    .dataframe tbody tr th:only-of-type {\n",
              "        vertical-align: middle;\n",
              "    }\n",
              "\n",
              "    .dataframe tbody tr th {\n",
              "        vertical-align: top;\n",
              "    }\n",
              "\n",
              "    .dataframe thead th {\n",
              "        text-align: right;\n",
              "    }\n",
              "</style>\n",
              "<table border=\"1\" class=\"dataframe\">\n",
              "  <thead>\n",
              "    <tr style=\"text-align: right;\">\n",
              "      <th></th>\n",
              "      <th>username</th>\n",
              "      <th>rate</th>\n",
              "      <th>date</th>\n",
              "      <th>label</th>\n",
              "      <th>sentimen</th>\n",
              "      <th>reviews</th>\n",
              "      <th>produk</th>\n",
              "    </tr>\n",
              "  </thead>\n",
              "  <tbody>\n",
              "    <tr>\n",
              "      <th>0</th>\n",
              "      <td>ziaprlfauzi</td>\n",
              "      <td>4</td>\n",
              "      <td>21-05-2024 03:08 AM</td>\n",
              "      <td>fake</td>\n",
              "      <td>positive</td>\n",
              "      <td>Suka banget pake emina ini dr jaman kuliah sam...</td>\n",
              "      <td>Emina Sunscreen</td>\n",
              "    </tr>\n",
              "    <tr>\n",
              "      <th>1</th>\n",
              "      <td>mnisfa</td>\n",
              "      <td>4</td>\n",
              "      <td>20-05-2024 04:13 PM</td>\n",
              "      <td>fake</td>\n",
              "      <td>positive</td>\n",
              "      <td>sunscreen yang ringan banget\\nengga lengket da...</td>\n",
              "      <td>Emina Sunscreen</td>\n",
              "    </tr>\n",
              "    <tr>\n",
              "      <th>2</th>\n",
              "      <td>amandabilla98</td>\n",
              "      <td>4</td>\n",
              "      <td>20-05-2024 07:33 AM</td>\n",
              "      <td>trusted</td>\n",
              "      <td>positive</td>\n",
              "      <td>sunscreen jaman kuliah, cari nya gampang ada d...</td>\n",
              "      <td>Emina Sunscreen</td>\n",
              "    </tr>\n",
              "    <tr>\n",
              "      <th>3</th>\n",
              "      <td>mtraandita</td>\n",
              "      <td>3</td>\n",
              "      <td>19-05-2024 01:36 PM</td>\n",
              "      <td>trusted</td>\n",
              "      <td>neutral</td>\n",
              "      <td>Waktu smp aku pakai ss ini selama ±2 tahun, te...</td>\n",
              "      <td>Emina Sunscreen</td>\n",
              "    </tr>\n",
              "    <tr>\n",
              "      <th>4</th>\n",
              "      <td>Miftahuljahra</td>\n",
              "      <td>2</td>\n",
              "      <td>18-05-2024 06:38 AM</td>\n",
              "      <td>trusted</td>\n",
              "      <td>negative</td>\n",
              "      <td>Aku ga terlalu cocok pake produk ini terlebih ...</td>\n",
              "      <td>Emina Sunscreen</td>\n",
              "    </tr>\n",
              "  </tbody>\n",
              "</table>\n",
              "</div>\n",
              "    <div class=\"colab-df-buttons\">\n",
              "\n",
              "  <div class=\"colab-df-container\">\n",
              "    <button class=\"colab-df-convert\" onclick=\"convertToInteractive('df-cde394d3-16d6-4191-b6e3-7f28d79269f0')\"\n",
              "            title=\"Convert this dataframe to an interactive table.\"\n",
              "            style=\"display:none;\">\n",
              "\n",
              "  <svg xmlns=\"http://www.w3.org/2000/svg\" height=\"24px\" viewBox=\"0 -960 960 960\">\n",
              "    <path d=\"M120-120v-720h720v720H120Zm60-500h600v-160H180v160Zm220 220h160v-160H400v160Zm0 220h160v-160H400v160ZM180-400h160v-160H180v160Zm440 0h160v-160H620v160ZM180-180h160v-160H180v160Zm440 0h160v-160H620v160Z\"/>\n",
              "  </svg>\n",
              "    </button>\n",
              "\n",
              "  <style>\n",
              "    .colab-df-container {\n",
              "      display:flex;\n",
              "      gap: 12px;\n",
              "    }\n",
              "\n",
              "    .colab-df-convert {\n",
              "      background-color: #E8F0FE;\n",
              "      border: none;\n",
              "      border-radius: 50%;\n",
              "      cursor: pointer;\n",
              "      display: none;\n",
              "      fill: #1967D2;\n",
              "      height: 32px;\n",
              "      padding: 0 0 0 0;\n",
              "      width: 32px;\n",
              "    }\n",
              "\n",
              "    .colab-df-convert:hover {\n",
              "      background-color: #E2EBFA;\n",
              "      box-shadow: 0px 1px 2px rgba(60, 64, 67, 0.3), 0px 1px 3px 1px rgba(60, 64, 67, 0.15);\n",
              "      fill: #174EA6;\n",
              "    }\n",
              "\n",
              "    .colab-df-buttons div {\n",
              "      margin-bottom: 4px;\n",
              "    }\n",
              "\n",
              "    [theme=dark] .colab-df-convert {\n",
              "      background-color: #3B4455;\n",
              "      fill: #D2E3FC;\n",
              "    }\n",
              "\n",
              "    [theme=dark] .colab-df-convert:hover {\n",
              "      background-color: #434B5C;\n",
              "      box-shadow: 0px 1px 3px 1px rgba(0, 0, 0, 0.15);\n",
              "      filter: drop-shadow(0px 1px 2px rgba(0, 0, 0, 0.3));\n",
              "      fill: #FFFFFF;\n",
              "    }\n",
              "  </style>\n",
              "\n",
              "    <script>\n",
              "      const buttonEl =\n",
              "        document.querySelector('#df-cde394d3-16d6-4191-b6e3-7f28d79269f0 button.colab-df-convert');\n",
              "      buttonEl.style.display =\n",
              "        google.colab.kernel.accessAllowed ? 'block' : 'none';\n",
              "\n",
              "      async function convertToInteractive(key) {\n",
              "        const element = document.querySelector('#df-cde394d3-16d6-4191-b6e3-7f28d79269f0');\n",
              "        const dataTable =\n",
              "          await google.colab.kernel.invokeFunction('convertToInteractive',\n",
              "                                                    [key], {});\n",
              "        if (!dataTable) return;\n",
              "\n",
              "        const docLinkHtml = 'Like what you see? Visit the ' +\n",
              "          '<a target=\"_blank\" href=https://colab.research.google.com/notebooks/data_table.ipynb>data table notebook</a>'\n",
              "          + ' to learn more about interactive tables.';\n",
              "        element.innerHTML = '';\n",
              "        dataTable['output_type'] = 'display_data';\n",
              "        await google.colab.output.renderOutput(dataTable, element);\n",
              "        const docLink = document.createElement('div');\n",
              "        docLink.innerHTML = docLinkHtml;\n",
              "        element.appendChild(docLink);\n",
              "      }\n",
              "    </script>\n",
              "  </div>\n",
              "\n",
              "\n",
              "<div id=\"df-0313459c-3734-461a-9ea1-4c7c7d5f4b6c\">\n",
              "  <button class=\"colab-df-quickchart\" onclick=\"quickchart('df-0313459c-3734-461a-9ea1-4c7c7d5f4b6c')\"\n",
              "            title=\"Suggest charts\"\n",
              "            style=\"display:none;\">\n",
              "\n",
              "<svg xmlns=\"http://www.w3.org/2000/svg\" height=\"24px\"viewBox=\"0 0 24 24\"\n",
              "     width=\"24px\">\n",
              "    <g>\n",
              "        <path d=\"M19 3H5c-1.1 0-2 .9-2 2v14c0 1.1.9 2 2 2h14c1.1 0 2-.9 2-2V5c0-1.1-.9-2-2-2zM9 17H7v-7h2v7zm4 0h-2V7h2v10zm4 0h-2v-4h2v4z\"/>\n",
              "    </g>\n",
              "</svg>\n",
              "  </button>\n",
              "\n",
              "<style>\n",
              "  .colab-df-quickchart {\n",
              "      --bg-color: #E8F0FE;\n",
              "      --fill-color: #1967D2;\n",
              "      --hover-bg-color: #E2EBFA;\n",
              "      --hover-fill-color: #174EA6;\n",
              "      --disabled-fill-color: #AAA;\n",
              "      --disabled-bg-color: #DDD;\n",
              "  }\n",
              "\n",
              "  [theme=dark] .colab-df-quickchart {\n",
              "      --bg-color: #3B4455;\n",
              "      --fill-color: #D2E3FC;\n",
              "      --hover-bg-color: #434B5C;\n",
              "      --hover-fill-color: #FFFFFF;\n",
              "      --disabled-bg-color: #3B4455;\n",
              "      --disabled-fill-color: #666;\n",
              "  }\n",
              "\n",
              "  .colab-df-quickchart {\n",
              "    background-color: var(--bg-color);\n",
              "    border: none;\n",
              "    border-radius: 50%;\n",
              "    cursor: pointer;\n",
              "    display: none;\n",
              "    fill: var(--fill-color);\n",
              "    height: 32px;\n",
              "    padding: 0;\n",
              "    width: 32px;\n",
              "  }\n",
              "\n",
              "  .colab-df-quickchart:hover {\n",
              "    background-color: var(--hover-bg-color);\n",
              "    box-shadow: 0 1px 2px rgba(60, 64, 67, 0.3), 0 1px 3px 1px rgba(60, 64, 67, 0.15);\n",
              "    fill: var(--button-hover-fill-color);\n",
              "  }\n",
              "\n",
              "  .colab-df-quickchart-complete:disabled,\n",
              "  .colab-df-quickchart-complete:disabled:hover {\n",
              "    background-color: var(--disabled-bg-color);\n",
              "    fill: var(--disabled-fill-color);\n",
              "    box-shadow: none;\n",
              "  }\n",
              "\n",
              "  .colab-df-spinner {\n",
              "    border: 2px solid var(--fill-color);\n",
              "    border-color: transparent;\n",
              "    border-bottom-color: var(--fill-color);\n",
              "    animation:\n",
              "      spin 1s steps(1) infinite;\n",
              "  }\n",
              "\n",
              "  @keyframes spin {\n",
              "    0% {\n",
              "      border-color: transparent;\n",
              "      border-bottom-color: var(--fill-color);\n",
              "      border-left-color: var(--fill-color);\n",
              "    }\n",
              "    20% {\n",
              "      border-color: transparent;\n",
              "      border-left-color: var(--fill-color);\n",
              "      border-top-color: var(--fill-color);\n",
              "    }\n",
              "    30% {\n",
              "      border-color: transparent;\n",
              "      border-left-color: var(--fill-color);\n",
              "      border-top-color: var(--fill-color);\n",
              "      border-right-color: var(--fill-color);\n",
              "    }\n",
              "    40% {\n",
              "      border-color: transparent;\n",
              "      border-right-color: var(--fill-color);\n",
              "      border-top-color: var(--fill-color);\n",
              "    }\n",
              "    60% {\n",
              "      border-color: transparent;\n",
              "      border-right-color: var(--fill-color);\n",
              "    }\n",
              "    80% {\n",
              "      border-color: transparent;\n",
              "      border-right-color: var(--fill-color);\n",
              "      border-bottom-color: var(--fill-color);\n",
              "    }\n",
              "    90% {\n",
              "      border-color: transparent;\n",
              "      border-bottom-color: var(--fill-color);\n",
              "    }\n",
              "  }\n",
              "</style>\n",
              "\n",
              "  <script>\n",
              "    async function quickchart(key) {\n",
              "      const quickchartButtonEl =\n",
              "        document.querySelector('#' + key + ' button');\n",
              "      quickchartButtonEl.disabled = true;  // To prevent multiple clicks.\n",
              "      quickchartButtonEl.classList.add('colab-df-spinner');\n",
              "      try {\n",
              "        const charts = await google.colab.kernel.invokeFunction(\n",
              "            'suggestCharts', [key], {});\n",
              "      } catch (error) {\n",
              "        console.error('Error during call to suggestCharts:', error);\n",
              "      }\n",
              "      quickchartButtonEl.classList.remove('colab-df-spinner');\n",
              "      quickchartButtonEl.classList.add('colab-df-quickchart-complete');\n",
              "    }\n",
              "    (() => {\n",
              "      let quickchartButtonEl =\n",
              "        document.querySelector('#df-0313459c-3734-461a-9ea1-4c7c7d5f4b6c button');\n",
              "      quickchartButtonEl.style.display =\n",
              "        google.colab.kernel.accessAllowed ? 'block' : 'none';\n",
              "    })();\n",
              "  </script>\n",
              "</div>\n",
              "    </div>\n",
              "  </div>\n"
            ],
            "application/vnd.google.colaboratory.intrinsic+json": {
              "type": "dataframe",
              "variable_name": "df",
              "summary": "{\n  \"name\": \"df\",\n  \"rows\": 2395,\n  \"fields\": [\n    {\n      \"column\": \"username\",\n      \"properties\": {\n        \"dtype\": \"string\",\n        \"num_unique_values\": 2255,\n        \"samples\": [\n          \"dessybundanyafatih\",\n          \"Aaayuuu\",\n          \"DikaPutra22\"\n        ],\n        \"semantic_type\": \"\",\n        \"description\": \"\"\n      }\n    },\n    {\n      \"column\": \"rate\",\n      \"properties\": {\n        \"dtype\": \"number\",\n        \"std\": 1,\n        \"min\": 1,\n        \"max\": 5,\n        \"num_unique_values\": 5,\n        \"samples\": [\n          3,\n          1,\n          2\n        ],\n        \"semantic_type\": \"\",\n        \"description\": \"\"\n      }\n    },\n    {\n      \"column\": \"date\",\n      \"properties\": {\n        \"dtype\": \"string\",\n        \"num_unique_values\": 2085,\n        \"samples\": [\n          \"03-04-2021 23:21\",\n          \"03-10-2023 17:51\",\n          \"2024-05-21 3:11\"\n        ],\n        \"semantic_type\": \"\",\n        \"description\": \"\"\n      }\n    },\n    {\n      \"column\": \"label\",\n      \"properties\": {\n        \"dtype\": \"category\",\n        \"num_unique_values\": 3,\n        \"samples\": [\n          \"fake\",\n          \"trusted\",\n          \"non\"\n        ],\n        \"semantic_type\": \"\",\n        \"description\": \"\"\n      }\n    },\n    {\n      \"column\": \"sentimen\",\n      \"properties\": {\n        \"dtype\": \"category\",\n        \"num_unique_values\": 3,\n        \"samples\": [\n          \"positive\",\n          \"neutral\",\n          \"negative\"\n        ],\n        \"semantic_type\": \"\",\n        \"description\": \"\"\n      }\n    },\n    {\n      \"column\": \"reviews\",\n      \"properties\": {\n        \"dtype\": \"string\",\n        \"num_unique_values\": 2378,\n        \"samples\": [\n          \"Beberapa krim mata bisa terasa terlalu berat di kulit dan menyebabkan iritasi\",\n          \"ga terlalu suka sama lipstik ini, gatau kenapa tapi pertama kali coba di bibir hasilnya jd lengket banget, mungkin karna harganya juga ya yg lumayan murah. intinya ada harga ada kualitas. tp bisa tergantung bibir masing2 sih ada yg cocok ada juga yg engga\",\n          \"Bagus! dia beneran melembutkan buat rambutku yang sebelum diwarnain udah kering begitu diwarnain makin kering lagi. Biasanya aku tunggu 15 menitan, tapi sayang aku kurang suka baunya, lebih enak yang melon tapi varian ini yang kegunaanya pas buat aku. Mudah ditemuin lagi! ada di minimarket2 sekitar (versi sachet)\"\n        ],\n        \"semantic_type\": \"\",\n        \"description\": \"\"\n      }\n    },\n    {\n      \"column\": \"produk\",\n      \"properties\": {\n        \"dtype\": \"category\",\n        \"num_unique_values\": 207,\n        \"samples\": [\n          \"BROMEN Paket ACNE FIGHT (Acne Facial Wash + Serum Wajah Acne Fight Expertt)\",\n          \"The Originote Bundle Extra Brightening - Gluta B3 Serum + 24K Jelly Booster + Brightening Moisturizer\",\n          \"Scarlett Whitening Acne Series - Anti Acne & Anti Inflamasi untuk Merawat & Mencegah Pertumbuhan Jerawat with Salicylic Acid || Serum / Facial Wash / Toner / Day n Night Moisturizer\"\n        ],\n        \"semantic_type\": \"\",\n        \"description\": \"\"\n      }\n    }\n  ]\n}"
            }
          },
          "metadata": {},
          "execution_count": 16
        }
      ]
    },
    {
      "cell_type": "code",
      "source": [
        "df.info()"
      ],
      "metadata": {
        "execution": {
          "iopub.status.busy": "2024-05-28T00:01:32.880978Z",
          "iopub.execute_input": "2024-05-28T00:01:32.881438Z",
          "iopub.status.idle": "2024-05-28T00:01:32.897656Z",
          "shell.execute_reply.started": "2024-05-28T00:01:32.881395Z",
          "shell.execute_reply": "2024-05-28T00:01:32.896271Z"
        },
        "trusted": true,
        "id": "R1kQfbXWMrc0"
      },
      "execution_count": null,
      "outputs": []
    },
    {
      "cell_type": "code",
      "source": [
        "df.shape"
      ],
      "metadata": {
        "execution": {
          "iopub.status.busy": "2024-05-28T00:01:32.901144Z",
          "iopub.execute_input": "2024-05-28T00:01:32.902193Z",
          "iopub.status.idle": "2024-05-28T00:01:32.912191Z",
          "shell.execute_reply.started": "2024-05-28T00:01:32.902152Z",
          "shell.execute_reply": "2024-05-28T00:01:32.911005Z"
        },
        "trusted": true,
        "id": "JnmE-obbMrc0"
      },
      "execution_count": null,
      "outputs": []
    },
    {
      "cell_type": "code",
      "source": [
        "df.groupby(['label']).count()"
      ],
      "metadata": {
        "execution": {
          "iopub.status.busy": "2024-05-28T00:01:32.913801Z",
          "iopub.execute_input": "2024-05-28T00:01:32.914222Z",
          "iopub.status.idle": "2024-05-28T00:01:32.934784Z",
          "shell.execute_reply.started": "2024-05-28T00:01:32.914188Z",
          "shell.execute_reply": "2024-05-28T00:01:32.933466Z"
        },
        "trusted": true,
        "id": "xa-FclQCMrc0"
      },
      "execution_count": null,
      "outputs": []
    },
    {
      "cell_type": "code",
      "source": [
        "sns.countplot(x='label', data=df, palette='rainbow')"
      ],
      "metadata": {
        "execution": {
          "iopub.status.busy": "2024-05-28T00:01:32.936479Z",
          "iopub.execute_input": "2024-05-28T00:01:32.936931Z",
          "iopub.status.idle": "2024-05-28T00:01:33.340496Z",
          "shell.execute_reply.started": "2024-05-28T00:01:32.936897Z",
          "shell.execute_reply": "2024-05-28T00:01:33.339300Z"
        },
        "trusted": true,
        "id": "HcY7_rz7Mrc1"
      },
      "execution_count": null,
      "outputs": []
    },
    {
      "cell_type": "code",
      "source": [
        "sns.countplot(x='sentimen', data=df, palette='rainbow')"
      ],
      "metadata": {
        "execution": {
          "iopub.status.busy": "2024-05-28T00:01:33.342192Z",
          "iopub.execute_input": "2024-05-28T00:01:33.342645Z",
          "iopub.status.idle": "2024-05-28T00:01:33.730836Z",
          "shell.execute_reply.started": "2024-05-28T00:01:33.342606Z",
          "shell.execute_reply": "2024-05-28T00:01:33.729541Z"
        },
        "trusted": true,
        "id": "eOWfznyDMrc1"
      },
      "execution_count": null,
      "outputs": []
    },
    {
      "cell_type": "code",
      "source": [
        "df['text_length'] = df['reviews'].apply(len)"
      ],
      "metadata": {
        "execution": {
          "iopub.status.busy": "2024-05-28T00:01:33.732572Z",
          "iopub.execute_input": "2024-05-28T00:01:33.733079Z",
          "iopub.status.idle": "2024-05-28T00:01:33.743441Z",
          "shell.execute_reply.started": "2024-05-28T00:01:33.733038Z",
          "shell.execute_reply": "2024-05-28T00:01:33.741985Z"
        },
        "trusted": true,
        "id": "61UG3wntMrc1"
      },
      "execution_count": null,
      "outputs": []
    },
    {
      "cell_type": "code",
      "source": [
        "g = sns.FacetGrid(df, col='label', hue='label', palette='rainbow')\n",
        "g.map(plt.hist, 'text_length')"
      ],
      "metadata": {
        "execution": {
          "iopub.status.busy": "2024-05-28T00:01:33.744932Z",
          "iopub.execute_input": "2024-05-28T00:01:33.745371Z",
          "iopub.status.idle": "2024-05-28T00:01:34.866773Z",
          "shell.execute_reply.started": "2024-05-28T00:01:33.745329Z",
          "shell.execute_reply": "2024-05-28T00:01:34.865536Z"
        },
        "trusted": true,
        "id": "VrVR5AN6Mrc1"
      },
      "execution_count": null,
      "outputs": []
    },
    {
      "cell_type": "code",
      "source": [
        "g = sns.FacetGrid(df, col='label', hue='label', palette='rainbow')\n",
        "g.map(sns.distplot, 'text_length')"
      ],
      "metadata": {
        "execution": {
          "iopub.status.busy": "2024-05-28T00:01:34.868190Z",
          "iopub.execute_input": "2024-05-28T00:01:34.868569Z",
          "iopub.status.idle": "2024-05-28T00:01:36.430751Z",
          "shell.execute_reply.started": "2024-05-28T00:01:34.868538Z",
          "shell.execute_reply": "2024-05-28T00:01:36.429561Z"
        },
        "trusted": true,
        "id": "o3SAwdoGMrc1"
      },
      "execution_count": null,
      "outputs": []
    },
    {
      "cell_type": "code",
      "source": [
        "g = sns.FacetGrid(df, col='sentimen', hue='sentimen', palette='rainbow')\n",
        "g.map(plt.hist, 'text_length')"
      ],
      "metadata": {
        "execution": {
          "iopub.status.busy": "2024-05-28T00:01:36.432739Z",
          "iopub.execute_input": "2024-05-28T00:01:36.433280Z",
          "iopub.status.idle": "2024-05-28T00:01:37.610688Z",
          "shell.execute_reply.started": "2024-05-28T00:01:36.433222Z",
          "shell.execute_reply": "2024-05-28T00:01:37.609535Z"
        },
        "trusted": true,
        "id": "mMte4nMpMrc1"
      },
      "execution_count": null,
      "outputs": []
    },
    {
      "cell_type": "code",
      "source": [
        "df['word_length'] = df['reviews'].apply(lambda x:len(x.split()))\n"
      ],
      "metadata": {
        "execution": {
          "iopub.status.busy": "2024-05-28T00:01:37.612158Z",
          "iopub.execute_input": "2024-05-28T00:01:37.612528Z",
          "iopub.status.idle": "2024-05-28T00:01:37.631508Z",
          "shell.execute_reply.started": "2024-05-28T00:01:37.612497Z",
          "shell.execute_reply": "2024-05-28T00:01:37.630329Z"
        },
        "trusted": true,
        "id": "qfPvBFEdMrc1"
      },
      "execution_count": null,
      "outputs": []
    },
    {
      "cell_type": "code",
      "source": [
        "plt.figure(figsize=(12, 8))\n",
        "\n",
        "df[df.label==0].word_length.plot(bins=35, kind='hist', color='blue',\n",
        "                                       label='trusted', alpha=0.6)\n",
        "df[df.label == 1].word_length.plot(kind='hist', color='red',\n",
        "                                       label='fake', alpha=0.6)\n",
        "df[df.label == 2].word_length.plot(kind='hist', color='green',\n",
        "                                       label='non', alpha=0.6)\n",
        "plt.legend()\n",
        "plt.xlabel(\"Message Length\")\n",
        "plt.show()\n"
      ],
      "metadata": {
        "execution": {
          "iopub.status.busy": "2024-05-28T00:01:37.638652Z",
          "iopub.execute_input": "2024-05-28T00:01:37.639215Z",
          "iopub.status.idle": "2024-05-28T00:01:38.401686Z",
          "shell.execute_reply.started": "2024-05-28T00:01:37.639169Z",
          "shell.execute_reply": "2024-05-28T00:01:38.400460Z"
        },
        "trusted": true,
        "id": "HzxAbvQVMrc2"
      },
      "execution_count": null,
      "outputs": []
    },
    {
      "cell_type": "code",
      "source": [
        "df.text_length.describe()"
      ],
      "metadata": {
        "execution": {
          "iopub.status.busy": "2024-05-28T00:01:38.403428Z",
          "iopub.execute_input": "2024-05-28T00:01:38.404077Z",
          "iopub.status.idle": "2024-05-28T00:01:38.418406Z",
          "shell.execute_reply.started": "2024-05-28T00:01:38.404029Z",
          "shell.execute_reply": "2024-05-28T00:01:38.417060Z"
        },
        "trusted": true,
        "id": "szDBhWw4Mrc2"
      },
      "execution_count": null,
      "outputs": []
    },
    {
      "cell_type": "code",
      "source": [
        "df.dtypes"
      ],
      "metadata": {
        "execution": {
          "iopub.status.busy": "2024-05-28T00:01:38.419842Z",
          "iopub.execute_input": "2024-05-28T00:01:38.420234Z",
          "iopub.status.idle": "2024-05-28T00:01:38.430229Z",
          "shell.execute_reply.started": "2024-05-28T00:01:38.420202Z",
          "shell.execute_reply": "2024-05-28T00:01:38.428895Z"
        },
        "trusted": true,
        "id": "87wBirJmMrc2"
      },
      "execution_count": null,
      "outputs": []
    },
    {
      "cell_type": "code",
      "source": [
        "sns.boxplot(x='label',y='text_length',data=df,palette='rainbow')"
      ],
      "metadata": {
        "execution": {
          "iopub.status.busy": "2024-05-28T00:01:38.432067Z",
          "iopub.execute_input": "2024-05-28T00:01:38.432485Z",
          "iopub.status.idle": "2024-05-28T00:01:38.832540Z",
          "shell.execute_reply.started": "2024-05-28T00:01:38.432453Z",
          "shell.execute_reply": "2024-05-28T00:01:38.831321Z"
        },
        "trusted": true,
        "id": "VG7AeuIwMrc2"
      },
      "execution_count": null,
      "outputs": []
    },
    {
      "cell_type": "code",
      "source": [
        "sns.boxplot(x='sentimen',y='text_length',data=df,palette='rainbow')"
      ],
      "metadata": {
        "execution": {
          "iopub.status.busy": "2024-05-28T00:01:38.834358Z",
          "iopub.execute_input": "2024-05-28T00:01:38.834785Z",
          "iopub.status.idle": "2024-05-28T00:01:39.235833Z",
          "shell.execute_reply.started": "2024-05-28T00:01:38.834752Z",
          "shell.execute_reply": "2024-05-28T00:01:39.234513Z"
        },
        "trusted": true,
        "id": "Z9Mj8iePMrc2"
      },
      "execution_count": null,
      "outputs": []
    },
    {
      "cell_type": "markdown",
      "source": [
        "# Distribution Preprosesing"
      ],
      "metadata": {
        "id": "Hm_U9W5SMrc2"
      }
    },
    {
      "cell_type": "markdown",
      "source": [
        "## Missing Value & Duplicate handling"
      ],
      "metadata": {
        "id": "hUVDmsonMrc3"
      }
    },
    {
      "cell_type": "code",
      "source": [
        "df.dropna(subset = [\"label\"], axis=0, inplace=True)"
      ],
      "metadata": {
        "execution": {
          "iopub.status.busy": "2024-05-28T00:01:39.237570Z",
          "iopub.execute_input": "2024-05-28T00:01:39.238029Z",
          "iopub.status.idle": "2024-05-28T00:01:39.249921Z",
          "shell.execute_reply.started": "2024-05-28T00:01:39.237987Z",
          "shell.execute_reply": "2024-05-28T00:01:39.248371Z"
        },
        "trusted": true,
        "id": "LpzGmbeXMrc3"
      },
      "execution_count": null,
      "outputs": []
    },
    {
      "cell_type": "code",
      "source": [
        "df = df.drop_duplicates()"
      ],
      "metadata": {
        "execution": {
          "iopub.status.busy": "2024-05-28T00:01:39.252089Z",
          "iopub.execute_input": "2024-05-28T00:01:39.252597Z",
          "iopub.status.idle": "2024-05-28T00:01:39.272173Z",
          "shell.execute_reply.started": "2024-05-28T00:01:39.252563Z",
          "shell.execute_reply": "2024-05-28T00:01:39.270470Z"
        },
        "trusted": true,
        "id": "SEa7j51eMrc3"
      },
      "execution_count": null,
      "outputs": []
    },
    {
      "cell_type": "code",
      "source": [
        "df['label'].value_counts()"
      ],
      "metadata": {
        "execution": {
          "iopub.status.busy": "2024-05-28T00:01:39.273762Z",
          "iopub.execute_input": "2024-05-28T00:01:39.274206Z",
          "iopub.status.idle": "2024-05-28T00:01:39.286043Z",
          "shell.execute_reply.started": "2024-05-28T00:01:39.274169Z",
          "shell.execute_reply": "2024-05-28T00:01:39.284601Z"
        },
        "trusted": true,
        "id": "or_yqE3xMrc3"
      },
      "execution_count": null,
      "outputs": []
    },
    {
      "cell_type": "markdown",
      "source": [
        "# Modeling"
      ],
      "metadata": {
        "id": "Kqooa_giMrc3"
      }
    },
    {
      "cell_type": "code",
      "source": [
        "import pandas as pd\n",
        "import numpy as np\n",
        "import tensorflow as tf\n",
        "from tensorflow.keras.layers import Embedding, LSTM, Dense, Input, concatenate\n",
        "from tensorflow.keras.models import Model\n",
        "from sklearn.model_selection import train_test_split\n",
        "from sklearn.preprocessing import LabelEncoder\n",
        "from tensorflow.keras.preprocessing.text import Tokenizer\n",
        "from tensorflow.keras.preprocessing.sequence import pad_sequences\n",
        "from gensim.models import Word2Vec"
      ],
      "metadata": {
        "execution": {
          "iopub.status.busy": "2024-05-28T00:01:39.287797Z",
          "iopub.execute_input": "2024-05-28T00:01:39.288850Z",
          "iopub.status.idle": "2024-05-28T00:01:39.297916Z",
          "shell.execute_reply.started": "2024-05-28T00:01:39.288799Z",
          "shell.execute_reply": "2024-05-28T00:01:39.296401Z"
        },
        "trusted": true,
        "id": "qCzBQP6ZMrc3"
      },
      "execution_count": null,
      "outputs": []
    },
    {
      "cell_type": "code",
      "source": [
        "# Encode labels\n",
        "label_encoder_review = LabelEncoder()\n",
        "label_encoder_sentiment = LabelEncoder()\n",
        "df['label_encoded'] = label_encoder_review.fit_transform(df['label'])\n",
        "df['sentiment_encoded'] = label_encoder_sentiment.fit_transform(df['sentimen'])"
      ],
      "metadata": {
        "execution": {
          "iopub.status.busy": "2024-05-28T00:01:39.299747Z",
          "iopub.execute_input": "2024-05-28T00:01:39.300288Z",
          "iopub.status.idle": "2024-05-28T00:01:39.313878Z",
          "shell.execute_reply.started": "2024-05-28T00:01:39.300233Z",
          "shell.execute_reply": "2024-05-28T00:01:39.312390Z"
        },
        "trusted": true,
        "id": "ifTI2d0BMrc4"
      },
      "execution_count": null,
      "outputs": []
    },
    {
      "cell_type": "code",
      "source": [
        "# Tokenization and Padding\n",
        "tokenizer = Tokenizer()\n",
        "tokenizer.fit_on_texts(df['reviews'])\n",
        "sequences = tokenizer.texts_to_sequences(df['reviews'])\n",
        "word_index = tokenizer.word_index"
      ],
      "metadata": {
        "execution": {
          "iopub.status.busy": "2024-05-28T00:01:39.315607Z",
          "iopub.execute_input": "2024-05-28T00:01:39.316017Z",
          "iopub.status.idle": "2024-05-28T00:01:39.573144Z",
          "shell.execute_reply.started": "2024-05-28T00:01:39.315978Z",
          "shell.execute_reply": "2024-05-28T00:01:39.572104Z"
        },
        "trusted": true,
        "id": "X9q38VgNMrc4"
      },
      "execution_count": null,
      "outputs": []
    },
    {
      "cell_type": "code",
      "source": [
        "# Padding sequences\n",
        "max_sequence_length = 100  # Adjust as needed\n",
        "data = pad_sequences(sequences, maxlen=max_sequence_length)"
      ],
      "metadata": {
        "execution": {
          "iopub.status.busy": "2024-05-28T00:01:39.574434Z",
          "iopub.execute_input": "2024-05-28T00:01:39.574754Z",
          "iopub.status.idle": "2024-05-28T00:01:39.613638Z",
          "shell.execute_reply.started": "2024-05-28T00:01:39.574727Z",
          "shell.execute_reply": "2024-05-28T00:01:39.612554Z"
        },
        "trusted": true,
        "id": "MVkSBeGHMrc4"
      },
      "execution_count": null,
      "outputs": []
    },
    {
      "cell_type": "code",
      "source": [
        "# Prepare embedding matrix with Word2Vec\n",
        "w2v_model = Word2Vec(sentences=[text.split() for text in df['reviews']], vector_size=100, window=5, min_count=1, workers=4)\n",
        "embedding_matrix = np.zeros((len(word_index) + 1, 100))\n",
        "for word, i in word_index.items():\n",
        "    if word in w2v_model.wv:\n",
        "        embedding_matrix[i] = w2v_model.wv[word]"
      ],
      "metadata": {
        "execution": {
          "iopub.status.busy": "2024-05-28T00:01:39.615038Z",
          "iopub.execute_input": "2024-05-28T00:01:39.615384Z",
          "iopub.status.idle": "2024-05-28T00:01:40.648215Z",
          "shell.execute_reply.started": "2024-05-28T00:01:39.615355Z",
          "shell.execute_reply": "2024-05-28T00:01:40.646993Z"
        },
        "trusted": true,
        "id": "yadvIl_LMrc4"
      },
      "execution_count": null,
      "outputs": []
    },
    {
      "cell_type": "code",
      "source": [
        "# Split the data\n",
        "X_train, X_test, y_train_label, y_test_label, y_train_sentiment, y_test_sentiment = train_test_split(\n",
        "    data, df['label_encoded'], df['sentiment_encoded'], test_size=0.2, random_state=42\n",
        ")"
      ],
      "metadata": {
        "execution": {
          "iopub.status.busy": "2024-05-28T00:01:40.649725Z",
          "iopub.execute_input": "2024-05-28T00:01:40.650121Z",
          "iopub.status.idle": "2024-05-28T00:01:40.660502Z",
          "shell.execute_reply.started": "2024-05-28T00:01:40.650087Z",
          "shell.execute_reply": "2024-05-28T00:01:40.659274Z"
        },
        "trusted": true,
        "id": "jrgX818QMrc4"
      },
      "execution_count": null,
      "outputs": []
    },
    {
      "cell_type": "code",
      "source": [
        "# Define the model\n",
        "input_ = Input(shape=(max_sequence_length,))\n",
        "embedding_layer = Embedding(input_dim=len(word_index) + 1, output_dim=100, input_length=max_sequence_length, trainable=False)\n",
        "embedding_layer.build((None,))  # Build the embedding layer\n",
        "embedding_layer.set_weights([embedding_matrix])  # Set the weights of the embedding layer\n",
        "\n",
        "embedding = embedding_layer(input_)"
      ],
      "metadata": {
        "execution": {
          "iopub.status.busy": "2024-05-28T00:01:40.662141Z",
          "iopub.execute_input": "2024-05-28T00:01:40.662612Z",
          "iopub.status.idle": "2024-05-28T00:01:40.742362Z",
          "shell.execute_reply.started": "2024-05-28T00:01:40.662557Z",
          "shell.execute_reply": "2024-05-28T00:01:40.741328Z"
        },
        "trusted": true,
        "id": "yMw08lVgMrc4"
      },
      "execution_count": null,
      "outputs": []
    },
    {
      "cell_type": "code",
      "source": [
        "# LSTM layer\n",
        "lstm_out = LSTM(128, return_sequences=True)(embedding)\n",
        "lstm_out = LSTM(64)(lstm_out)"
      ],
      "metadata": {
        "execution": {
          "iopub.status.busy": "2024-05-28T00:01:40.743600Z",
          "iopub.execute_input": "2024-05-28T00:01:40.743917Z",
          "iopub.status.idle": "2024-05-28T00:01:40.823676Z",
          "shell.execute_reply.started": "2024-05-28T00:01:40.743889Z",
          "shell.execute_reply": "2024-05-28T00:01:40.822382Z"
        },
        "trusted": true,
        "id": "JTSATCmmMrc4"
      },
      "execution_count": null,
      "outputs": []
    },
    {
      "cell_type": "code",
      "source": [
        "# Output layers\n",
        "output_review = Dense(3, activation='softmax', name='review_output')(lstm_out)\n",
        "output_sentiment = Dense(3, activation='softmax', name='sentiment_output')(lstm_out)\n"
      ],
      "metadata": {
        "execution": {
          "iopub.status.busy": "2024-05-28T00:01:40.825077Z",
          "iopub.execute_input": "2024-05-28T00:01:40.825415Z",
          "iopub.status.idle": "2024-05-28T00:01:40.850461Z",
          "shell.execute_reply.started": "2024-05-28T00:01:40.825381Z",
          "shell.execute_reply": "2024-05-28T00:01:40.849329Z"
        },
        "trusted": true,
        "id": "FVy5B-ObMrc4"
      },
      "execution_count": null,
      "outputs": []
    },
    {
      "cell_type": "code",
      "source": [
        "# Combine into a model\n",
        "model = Model(inputs=input_, outputs=[output_review, output_sentiment])\n",
        "model.compile(optimizer='adam', loss='sparse_categorical_crossentropy', metrics=['accuracy'])"
      ],
      "metadata": {
        "execution": {
          "iopub.status.busy": "2024-05-28T00:01:40.852016Z",
          "iopub.execute_input": "2024-05-28T00:01:40.852486Z",
          "iopub.status.idle": "2024-05-28T00:01:40.876506Z",
          "shell.execute_reply.started": "2024-05-28T00:01:40.852441Z",
          "shell.execute_reply": "2024-05-28T00:01:40.875071Z"
        },
        "trusted": true,
        "id": "c716ht2fMrc4"
      },
      "execution_count": null,
      "outputs": []
    },
    {
      "cell_type": "code",
      "source": [
        "# Summary of the model\n",
        "model.summary()"
      ],
      "metadata": {
        "execution": {
          "iopub.status.busy": "2024-05-28T00:01:40.878184Z",
          "iopub.execute_input": "2024-05-28T00:01:40.878642Z",
          "iopub.status.idle": "2024-05-28T00:01:40.908822Z",
          "shell.execute_reply.started": "2024-05-28T00:01:40.878602Z",
          "shell.execute_reply": "2024-05-28T00:01:40.907704Z"
        },
        "trusted": true,
        "id": "8I1cSf_bMrc5"
      },
      "execution_count": null,
      "outputs": []
    },
    {
      "cell_type": "code",
      "source": [
        "# Compile the model with metrics for each output\n",
        "model.compile(optimizer='adam',\n",
        "              loss={'review_output': 'sparse_categorical_crossentropy', 'sentiment_output': 'sparse_categorical_crossentropy'},\n",
        "              metrics={'review_output': 'accuracy', 'sentiment_output': 'accuracy'})"
      ],
      "metadata": {
        "execution": {
          "iopub.status.busy": "2024-05-28T00:01:40.910147Z",
          "iopub.execute_input": "2024-05-28T00:01:40.910509Z",
          "iopub.status.idle": "2024-05-28T00:01:40.923256Z",
          "shell.execute_reply.started": "2024-05-28T00:01:40.910479Z",
          "shell.execute_reply": "2024-05-28T00:01:40.922033Z"
        },
        "trusted": true,
        "id": "NSg80RHnMrc5"
      },
      "execution_count": null,
      "outputs": []
    },
    {
      "cell_type": "code",
      "source": [
        "from keras.callbacks import EarlyStopping, ModelCheckpoint\n",
        "\n",
        "# Define Early Stopping and Model Checkpoint callbacks\n",
        "early_stopping = EarlyStopping(\n",
        "    monitor='val_loss',\n",
        "    patience=3,\n",
        "    restore_best_weights=True\n",
        ")\n",
        "\n",
        "model_checkpoint = ModelCheckpoint(\n",
        "    'best_model.keras',\n",
        "    monitor='val_loss',\n",
        "    save_best_only=True,\n",
        "    mode='min'\n",
        ")"
      ],
      "metadata": {
        "execution": {
          "iopub.status.busy": "2024-05-28T00:01:40.924779Z",
          "iopub.execute_input": "2024-05-28T00:01:40.925169Z",
          "iopub.status.idle": "2024-05-28T00:01:40.933809Z",
          "shell.execute_reply.started": "2024-05-28T00:01:40.925136Z",
          "shell.execute_reply": "2024-05-28T00:01:40.932580Z"
        },
        "trusted": true,
        "id": "8CedSvuMMrc5"
      },
      "execution_count": null,
      "outputs": []
    },
    {
      "cell_type": "code",
      "source": [
        "# Train the model with callbacks\n",
        "history = model.fit(\n",
        "    X_train,\n",
        "    {'review_output': y_train_label, 'sentiment_output': y_train_sentiment},\n",
        "    epochs=30,\n",
        "    batch_size=32,\n",
        "    validation_split=0.2,\n",
        "    callbacks=[early_stopping, model_checkpoint]\n",
        ")"
      ],
      "metadata": {
        "execution": {
          "iopub.status.busy": "2024-05-28T00:01:40.935359Z",
          "iopub.execute_input": "2024-05-28T00:01:40.935773Z",
          "iopub.status.idle": "2024-05-28T00:03:22.853935Z",
          "shell.execute_reply.started": "2024-05-28T00:01:40.935741Z",
          "shell.execute_reply": "2024-05-28T00:03:22.852868Z"
        },
        "trusted": true,
        "id": "RqkHqft2Mrc5"
      },
      "execution_count": null,
      "outputs": []
    },
    {
      "cell_type": "code",
      "source": [
        "# Evaluate the model\n",
        "results = model.evaluate(X_test, {'review_output': y_test_label, 'sentiment_output': y_test_sentiment})\n",
        "print(f'Test results - Loss: {results[0]} - Review Output Loss: {results[1]} - Sentiment Output Loss: {results[2]}')"
      ],
      "metadata": {
        "execution": {
          "iopub.status.busy": "2024-05-28T00:03:22.855734Z",
          "iopub.execute_input": "2024-05-28T00:03:22.856133Z",
          "iopub.status.idle": "2024-05-28T00:03:24.301046Z",
          "shell.execute_reply.started": "2024-05-28T00:03:22.856099Z",
          "shell.execute_reply": "2024-05-28T00:03:24.299804Z"
        },
        "trusted": true,
        "id": "H-msaK-IMrc5"
      },
      "execution_count": null,
      "outputs": []
    },
    {
      "cell_type": "code",
      "source": [
        "# Print history\n",
        "print(history.history.keys())\n"
      ],
      "metadata": {
        "execution": {
          "iopub.status.busy": "2024-05-28T00:03:24.302767Z",
          "iopub.execute_input": "2024-05-28T00:03:24.303194Z",
          "iopub.status.idle": "2024-05-28T00:03:24.309112Z",
          "shell.execute_reply.started": "2024-05-28T00:03:24.303145Z",
          "shell.execute_reply": "2024-05-28T00:03:24.307920Z"
        },
        "trusted": true,
        "id": "ULjX5cmyMrdB"
      },
      "execution_count": null,
      "outputs": []
    },
    {
      "cell_type": "code",
      "source": [
        "import matplotlib.pyplot as plt\n",
        "\n",
        "# Plot learning curve\n",
        "def plot_learning_curve(history):\n",
        "    plt.figure(figsize=(12, 6))\n",
        "\n",
        "    # Plot accuracy\n",
        "    plt.subplot(1, 2, 1)\n",
        "    plt.plot(history.history['review_output_accuracy'], label='Review Output Accuracy')\n",
        "    plt.plot(history.history['val_review_output_accuracy'], label='Validation Review Output Accuracy')\n",
        "    plt.plot(history.history['sentiment_output_accuracy'], label='Sentiment Output Accuracy')\n",
        "    plt.plot(history.history['val_sentiment_output_accuracy'], label='Validation Sentiment Output Accuracy')\n",
        "    plt.title('Model Accuracy')\n",
        "    plt.xlabel('Epoch')\n",
        "    plt.ylabel('Accuracy')\n",
        "    plt.legend()\n",
        "\n",
        "    # Plot loss\n",
        "    plt.subplot(1, 2, 2)\n",
        "    plt.plot(history.history['loss'], label='Loss')\n",
        "    plt.plot(history.history['val_loss'], label='Validation Loss')\n",
        "    plt.title('Model Loss')\n",
        "    plt.xlabel('Epoch')\n",
        "    plt.ylabel('Loss')\n",
        "    plt.legend()\n",
        "\n",
        "    plt.show()\n",
        "\n",
        "# Plot learning curve\n",
        "plot_learning_curve(history)\n"
      ],
      "metadata": {
        "execution": {
          "iopub.status.busy": "2024-05-28T00:04:11.932444Z",
          "iopub.execute_input": "2024-05-28T00:04:11.932873Z",
          "iopub.status.idle": "2024-05-28T00:04:12.728258Z",
          "shell.execute_reply.started": "2024-05-28T00:04:11.932841Z",
          "shell.execute_reply": "2024-05-28T00:04:12.727023Z"
        },
        "trusted": true,
        "id": "YkQZF9YPMrdB"
      },
      "execution_count": null,
      "outputs": []
    },
    {
      "cell_type": "code",
      "source": [
        "\n",
        "from sklearn.metrics import confusion_matrix, ConfusionMatrixDisplay\n",
        "\n",
        "# Predict on the test set\n",
        "y_test_pred_review = np.argmax(model.predict(X_test)[0], axis=1)\n",
        "y_test_pred_sentiment = np.argmax(model.predict(X_test)[1], axis=1)\n",
        "\n",
        "# Convert labels back to original encoding\n",
        "y_test_true_review = y_test_label\n",
        "y_test_true_sentiment = y_test_sentiment"
      ],
      "metadata": {
        "execution": {
          "iopub.status.idle": "2024-05-28T00:03:27.695300Z",
          "shell.execute_reply.started": "2024-05-28T00:03:25.116545Z",
          "shell.execute_reply": "2024-05-28T00:03:27.694023Z"
        },
        "trusted": true,
        "id": "peZBKeSLMrdB"
      },
      "execution_count": null,
      "outputs": []
    },
    {
      "cell_type": "code",
      "source": [
        "# Plot confusion matrix for review prediction\n",
        "cm_review = confusion_matrix(y_test_true_review, y_test_pred_review)\n",
        "disp_review = ConfusionMatrixDisplay(confusion_matrix=cm_review, display_labels=label_encoder_review.classes_)\n",
        "disp_review.plot(cmap=plt.cm.Blues)\n",
        "plt.title('Confusion Matrix for Review Classification')\n",
        "plt.show()"
      ],
      "metadata": {
        "execution": {
          "iopub.status.busy": "2024-05-28T00:03:27.697527Z",
          "iopub.execute_input": "2024-05-28T00:03:27.698036Z",
          "iopub.status.idle": "2024-05-28T00:03:28.131619Z",
          "shell.execute_reply.started": "2024-05-28T00:03:27.697990Z",
          "shell.execute_reply": "2024-05-28T00:03:28.130423Z"
        },
        "trusted": true,
        "id": "mHcfDk5sMrdB"
      },
      "execution_count": null,
      "outputs": []
    },
    {
      "cell_type": "code",
      "source": [
        "# Plot confusion matrix for sentiment prediction\n",
        "cm_sentiment = confusion_matrix(y_test_true_sentiment, y_test_pred_sentiment)\n",
        "disp_sentiment = ConfusionMatrixDisplay(confusion_matrix=cm_sentiment, display_labels=label_encoder_sentiment.classes_)\n",
        "disp_sentiment.plot(cmap=plt.cm.Blues)\n",
        "plt.title('Confusion Matrix for Sentiment Classification')\n",
        "plt.show()"
      ],
      "metadata": {
        "execution": {
          "iopub.status.busy": "2024-05-28T00:03:28.140471Z",
          "iopub.execute_input": "2024-05-28T00:03:28.140894Z",
          "iopub.status.idle": "2024-05-28T00:03:28.579802Z",
          "shell.execute_reply.started": "2024-05-28T00:03:28.140863Z",
          "shell.execute_reply": "2024-05-28T00:03:28.578665Z"
        },
        "trusted": true,
        "id": "-sdXabYOMrdB"
      },
      "execution_count": null,
      "outputs": []
    },
    {
      "cell_type": "code",
      "source": [
        "# Function for prediction with percentage\n",
        "def predict_review_with_percentage(model, tokenizer, review_text):\n",
        "    sequence = tokenizer.texts_to_sequences([review_text])\n",
        "    padded_sequence = pad_sequences(sequence, maxlen=max_sequence_length)\n",
        "    prediction = model.predict(padded_sequence)\n",
        "\n",
        "    review_pred = label_encoder_review.inverse_transform(np.argmax(prediction[0], axis=1))[0]\n",
        "    sentiment_pred = label_encoder_sentiment.inverse_transform(np.argmax(prediction[1], axis=1))[0]\n",
        "\n",
        "    # Calculate percentage\n",
        "    review_percentage = np.max(prediction[0]) * 100\n",
        "    sentiment_percentage = np.max(prediction[1]) * 100\n",
        "\n",
        "    return review_pred, review_percentage, sentiment_pred, sentiment_percentage\n",
        "\n",
        "\n",
        "\n",
        "# Function to predict star rating based on sentiment percentage\n",
        "def predict_star_rating(sentiment_percentage):\n",
        "    if sentiment_percentage <= 20:\n",
        "        return 1\n",
        "    elif sentiment_percentage <= 40:\n",
        "        return 2\n",
        "    elif sentiment_percentage <= 60:\n",
        "        return 3\n",
        "    elif sentiment_percentage <= 80:\n",
        "        return 4\n",
        "    else:\n",
        "        return 5\n",
        "\n",
        "\n"
      ],
      "metadata": {
        "execution": {
          "iopub.status.busy": "2024-05-28T00:03:28.581118Z",
          "iopub.execute_input": "2024-05-28T00:03:28.581543Z",
          "iopub.status.idle": "2024-05-28T00:03:28.592432Z",
          "shell.execute_reply.started": "2024-05-28T00:03:28.581503Z",
          "shell.execute_reply": "2024-05-28T00:03:28.591043Z"
        },
        "trusted": true,
        "id": "5CCwkbrFMrdB"
      },
      "execution_count": null,
      "outputs": []
    },
    {
      "cell_type": "code",
      "source": [
        "# Example usage by user input\n",
        "user_review = input(\"Masukkan review produk: \")\n",
        "review_pred, review_percentage, sentiment_pred, sentiment_percentage = predict_review_with_percentage(model, tokenizer, user_review)\n",
        "\n",
        "# Predict star rating based on sentiment percentage\n",
        "star_rating = predict_star_rating(sentiment_percentage)\n",
        "print('===============================   Review Analysis Result   ====================================')\n",
        "print(f'Review : {review_pred} - Percentage: {review_percentage:.2f}%')\n",
        "print(f'Sentiment : {sentiment_pred} - Percentage: {sentiment_percentage:.2f}%')\n",
        "print(f'Star Rating: {star_rating}')"
      ],
      "metadata": {
        "execution": {
          "iopub.status.busy": "2024-05-28T00:03:28.594221Z",
          "iopub.execute_input": "2024-05-28T00:03:28.594733Z",
          "iopub.status.idle": "2024-05-28T00:03:45.432637Z",
          "shell.execute_reply.started": "2024-05-28T00:03:28.594659Z",
          "shell.execute_reply": "2024-05-28T00:03:45.431470Z"
        },
        "trusted": true,
        "id": "TiShf0zoMrdB"
      },
      "execution_count": null,
      "outputs": []
    }
  ]
}