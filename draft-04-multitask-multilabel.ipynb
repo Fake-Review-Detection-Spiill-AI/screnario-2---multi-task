{
  "metadata": {
    "kernelspec": {
      "language": "python",
      "display_name": "Python 3",
      "name": "python3"
    },
    "language_info": {
      "name": "python",
      "version": "3.10.13",
      "mimetype": "text/x-python",
      "codemirror_mode": {
        "name": "ipython",
        "version": 3
      },
      "pygments_lexer": "ipython3",
      "nbconvert_exporter": "python",
      "file_extension": ".py"
    },
    "kaggle": {
      "accelerator": "none",
      "dataSources": [
        {
          "sourceId": 2284480,
          "sourceType": "datasetVersion",
          "datasetId": 1376345
        },
        {
          "sourceId": 8519560,
          "sourceType": "datasetVersion",
          "datasetId": 5086703
        }
      ],
      "dockerImageVersionId": 30698,
      "isInternetEnabled": true,
      "language": "python",
      "sourceType": "notebook",
      "isGpuEnabled": false
    },
    "colab": {
      "provenance": [],
      "toc_visible": true,
      "include_colab_link": true
    }
  },
  "nbformat_minor": 0,
  "nbformat": 4,
  "cells": [
    {
      "cell_type": "markdown",
      "metadata": {
        "id": "view-in-github",
        "colab_type": "text"
      },
      "source": [
        "<a href=\"https://colab.research.google.com/github/Fake-Review-Detection-Spiill-AI/screnario-2---multi-task/blob/main/draft-04-multitask-multilabel.ipynb\" target=\"_parent\"><img src=\"https://colab.research.google.com/assets/colab-badge.svg\" alt=\"Open In Colab\"/></a>"
      ]
    },
    {
      "cell_type": "markdown",
      "source": [
        "# Library\n"
      ],
      "metadata": {
        "id": "lgQEz1ImIHxj"
      }
    },
    {
      "cell_type": "code",
      "source": [
        "import pandas as pd\n",
        "import numpy as np\n",
        "import string"
      ],
      "metadata": {
        "_uuid": "8f2839f25d086af736a60e9eeb907d3b93b6e0e5",
        "_cell_guid": "b1076dfc-b9ad-4769-8c92-a6c4dae69d19",
        "execution": {
          "iopub.status.busy": "2024-05-28T00:00:38.141641Z",
          "iopub.execute_input": "2024-05-28T00:00:38.142180Z",
          "iopub.status.idle": "2024-05-28T00:01:32.811679Z",
          "shell.execute_reply.started": "2024-05-28T00:00:38.142140Z",
          "shell.execute_reply": "2024-05-28T00:01:32.810394Z"
        },
        "trusted": true,
        "id": "7gFdwVxTMrcy"
      },
      "execution_count": 1,
      "outputs": []
    },
    {
      "cell_type": "code",
      "source": [
        "# Loading Essential libraries\n",
        "import warnings\n",
        "warnings.filterwarnings('ignore')\n",
        "%config InlineBackend.figure_format = 'retina'\n",
        "%config Completer.use_jedi = False # this to force autocompletion"
      ],
      "metadata": {
        "execution": {
          "iopub.status.busy": "2024-05-28T00:01:32.814804Z",
          "iopub.execute_input": "2024-05-28T00:01:32.816420Z",
          "iopub.status.idle": "2024-05-28T00:01:32.833970Z",
          "shell.execute_reply.started": "2024-05-28T00:01:32.816380Z",
          "shell.execute_reply": "2024-05-28T00:01:32.832371Z"
        },
        "trusted": true,
        "id": "6M1Wz1IdMrc0"
      },
      "execution_count": 2,
      "outputs": []
    },
    {
      "cell_type": "markdown",
      "source": [
        "# Dataset"
      ],
      "metadata": {
        "id": "UYQc9AwyIOee"
      }
    },
    {
      "cell_type": "code",
      "source": [
        "df = pd.read_csv('https://raw.githubusercontent.com/Fake-Review-Detection-Spiill-AI/screnario-2---multi-task/main/dataset_preprocessing.csv',) #dataset hasil preprocessing\n",
        "df.head()"
      ],
      "metadata": {
        "execution": {
          "iopub.status.busy": "2024-05-28T00:01:32.835805Z",
          "iopub.execute_input": "2024-05-28T00:01:32.836247Z",
          "iopub.status.idle": "2024-05-28T00:01:32.879336Z",
          "shell.execute_reply.started": "2024-05-28T00:01:32.836214Z",
          "shell.execute_reply": "2024-05-28T00:01:32.878157Z"
        },
        "trusted": true,
        "id": "MZRjQBQ_Mrc0",
        "outputId": "f9d15330-1b6b-4bcb-d1c9-2487c5032395",
        "colab": {
          "base_uri": "https://localhost:8080/",
          "height": 585
        }
      },
      "execution_count": 3,
      "outputs": [
        {
          "output_type": "execute_result",
          "data": {
            "text/plain": [
              "           username  rate              date    label sentimen  \\\n",
              "0       nadiadiani_     3   19-03-2021 6:58      non  neutral   \n",
              "1         jiminee10     3   31-08-2022 5:02     fake  neutral   \n",
              "2   srihastutik1987     3  2024-05-22 22:24     fake  neutral   \n",
              "3         Aisyah_18     3  01-11-2021 11:32     fake  neutral   \n",
              "4  christinjuniarti     3   29-06-2018 1:01  trusted  neutral   \n",
              "\n",
              "                                             reviews               produk  \\\n",
              "0  Ketahuilah apa jenis kulitmu dulu,,utamakan gu...    Acnes Creamy Wash   \n",
              "1  Salah satu facial wash dari drugstore yang lay...    Acnes Creamy Wash   \n",
              "2  Efek:memberikan kulit tampak lebih cerah\\n Tek...  MS GLOW FACIAL WASH   \n",
              "3   cukup memuaskan dengan harga yang terjangkau ...    Acnes Creamy Wash   \n",
              "4  Dr segi packaging sih oke2 aja dan bisa liat w...    Lip Cream LA Girl   \n",
              "\n",
              "   text_length  anomaly_score  \\\n",
              "0          282              1   \n",
              "1          167              1   \n",
              "2          103              1   \n",
              "3          104              1   \n",
              "4          431              1   \n",
              "\n",
              "                                   lowercase_reviews  ...  \\\n",
              "0  ketahuilah apa jenis kulitmu dulu,,utamakan gu...  ...   \n",
              "1  salah satu facial wash dari drugstore yang lay...  ...   \n",
              "2  efek:memberikan kulit tampak lebih cerah\\n tek...  ...   \n",
              "3   cukup memuaskan dengan harga yang terjangkau ...  ...   \n",
              "4  dr segi packaging sih oke2 aja dan bisa liat w...  ...   \n",
              "\n",
              "                                   no_number_reviews  \\\n",
              "0  ketahuilah apa jenis kulitmu dulu,,utamakan gu...   \n",
              "1  salah satu facial wash dari drugstore yang lay...   \n",
              "2  efek:memberikan kulit tampak lebih cerah\\n tek...   \n",
              "3   cukup memuaskan dengan harga yang terjangkau ...   \n",
              "4  dr segi packaging sih oke  aja dan bisa liat w...   \n",
              "\n",
              "                                  no_atribut_reviews  \\\n",
              "0  ketahuilah apa jenis kulitmu dulu utamakan gun...   \n",
              "1  salah satu facial wash dari drugstore yang lay...   \n",
              "2  efek memberikan kulit tampak lebih cerah tekst...   \n",
              "3  cukup memuaskan dengan harga yang terjangkau d...   \n",
              "4  dr segi packaging sih oke aja dan bisa liat wa...   \n",
              "\n",
              "                               no_repetition_reviews  \\\n",
              "0  ketahuilah apa jenis kulitmu dulu utamakan gun...   \n",
              "1  salah satu facial wash dari drugstore yang lay...   \n",
              "2  efek memberikan kulit tampak lebih cerah tekst...   \n",
              "3  cukup memuaskan dengan harga yang terjangkau d...   \n",
              "4  dr segi packaging sih oke aja dan bisa liat wa...   \n",
              "\n",
              "                               no_whitespace_reviews  \\\n",
              "0  ketahuilah apa jenis kulitmu dulu utamakan gun...   \n",
              "1  salah satu facial wash dari drugstore yang lay...   \n",
              "2  efek memberikan kulit tampak lebih cerah tekst...   \n",
              "3  cukup memuaskan dengan harga yang terjangkau d...   \n",
              "4  dr segi packaging sih oke aja dan bisa liat wa...   \n",
              "\n",
              "                                   no_banned_reviews  \\\n",
              "0  ketahuilah apa jenis kulitmu dulu utamakan gun...   \n",
              "1  salah satu facial wash dari drugstore yang lay...   \n",
              "2  efek memberikan kulit tampak lebih cerah tekst...   \n",
              "3  cukup memuaskan dengan harga yang terjangkau d...   \n",
              "4  dr segi packaging sih oke aja dan bisa liat wa...   \n",
              "\n",
              "                                    no_slang_reviews  \\\n",
              "0  ketahuilah apa jenis kulitmu dahulu utamakan g...   \n",
              "1  salah satu facial wash dari drugstore yang lay...   \n",
              "2  efek memberikan kulit tampak lebih cerah tekst...   \n",
              "3  cukup memuaskan dengan harga yang terjangkau d...   \n",
              "4  dari segi packaging sih oke saja dan bisa liha...   \n",
              "\n",
              "                                       clean_reviews  \\\n",
              "0  ketahuilah apa jenis kulitmu dahulu utamakan g...   \n",
              "1  salah satu facial wash dari drugstore yang lay...   \n",
              "2  efek memberikan kulit tampak lebih cerah tekst...   \n",
              "3  cukup memuaskan dengan harga yang terjangkau d...   \n",
              "4  dari segi packaging sih oke saja dan bisa liha...   \n",
              "\n",
              "                                      tokens_reviews  \\\n",
              "0  ['ketahuilah', 'apa', 'jenis', 'kulitmu', 'dah...   \n",
              "1  ['salah', 'satu', 'facial', 'wash', 'dari', 'd...   \n",
              "2  ['efek', 'memberikan', 'kulit', 'tampak', 'leb...   \n",
              "3  ['cukup', 'memuaskan', 'dengan', 'harga', 'yan...   \n",
              "4  ['dari', 'segi', 'packaging', 'sih', 'oke', 's...   \n",
              "\n",
              "                                    stopword_reviews  \\\n",
              "0  ['ketahuilah', 'jenis', 'kulitmu', 'utamakan',...   \n",
              "1  ['salah', 'facial', 'wash', 'drugstore', 'laya...   \n",
              "2  ['efek', 'kulit', 'cerah', 'tekstur', 'lembut'...   \n",
              "3  ['memuaskan', 'harga', 'terjangkau', 'kualitas...   \n",
              "4  ['segi', 'packaging', 'oke', 'warna', 'produk'...   \n",
              "\n",
              "                                        stem_reviews  \n",
              "0  tahu jenis kulit utama produk kandung hydratin...  \n",
              "1  salah facial wash drugstore layak coba busa ku...  \n",
              "2  efek kulit cerah tekstur lembut nyaman asli ba...  \n",
              "3  muas harga jangkau kualitas lumayan sedia mark...  \n",
              "4  segi packaging oke warna produk dalam pas dico...  \n",
              "\n",
              "[5 rows x 22 columns]"
            ],
            "text/html": [
              "\n",
              "  <div id=\"df-bac22f24-09ce-4bd4-a0af-ffdcecf95e3c\" class=\"colab-df-container\">\n",
              "    <div>\n",
              "<style scoped>\n",
              "    .dataframe tbody tr th:only-of-type {\n",
              "        vertical-align: middle;\n",
              "    }\n",
              "\n",
              "    .dataframe tbody tr th {\n",
              "        vertical-align: top;\n",
              "    }\n",
              "\n",
              "    .dataframe thead th {\n",
              "        text-align: right;\n",
              "    }\n",
              "</style>\n",
              "<table border=\"1\" class=\"dataframe\">\n",
              "  <thead>\n",
              "    <tr style=\"text-align: right;\">\n",
              "      <th></th>\n",
              "      <th>username</th>\n",
              "      <th>rate</th>\n",
              "      <th>date</th>\n",
              "      <th>label</th>\n",
              "      <th>sentimen</th>\n",
              "      <th>reviews</th>\n",
              "      <th>produk</th>\n",
              "      <th>text_length</th>\n",
              "      <th>anomaly_score</th>\n",
              "      <th>lowercase_reviews</th>\n",
              "      <th>...</th>\n",
              "      <th>no_number_reviews</th>\n",
              "      <th>no_atribut_reviews</th>\n",
              "      <th>no_repetition_reviews</th>\n",
              "      <th>no_whitespace_reviews</th>\n",
              "      <th>no_banned_reviews</th>\n",
              "      <th>no_slang_reviews</th>\n",
              "      <th>clean_reviews</th>\n",
              "      <th>tokens_reviews</th>\n",
              "      <th>stopword_reviews</th>\n",
              "      <th>stem_reviews</th>\n",
              "    </tr>\n",
              "  </thead>\n",
              "  <tbody>\n",
              "    <tr>\n",
              "      <th>0</th>\n",
              "      <td>nadiadiani_</td>\n",
              "      <td>3</td>\n",
              "      <td>19-03-2021 6:58</td>\n",
              "      <td>non</td>\n",
              "      <td>neutral</td>\n",
              "      <td>Ketahuilah apa jenis kulitmu dulu,,utamakan gu...</td>\n",
              "      <td>Acnes Creamy Wash</td>\n",
              "      <td>282</td>\n",
              "      <td>1</td>\n",
              "      <td>ketahuilah apa jenis kulitmu dulu,,utamakan gu...</td>\n",
              "      <td>...</td>\n",
              "      <td>ketahuilah apa jenis kulitmu dulu,,utamakan gu...</td>\n",
              "      <td>ketahuilah apa jenis kulitmu dulu utamakan gun...</td>\n",
              "      <td>ketahuilah apa jenis kulitmu dulu utamakan gun...</td>\n",
              "      <td>ketahuilah apa jenis kulitmu dulu utamakan gun...</td>\n",
              "      <td>ketahuilah apa jenis kulitmu dulu utamakan gun...</td>\n",
              "      <td>ketahuilah apa jenis kulitmu dahulu utamakan g...</td>\n",
              "      <td>ketahuilah apa jenis kulitmu dahulu utamakan g...</td>\n",
              "      <td>['ketahuilah', 'apa', 'jenis', 'kulitmu', 'dah...</td>\n",
              "      <td>['ketahuilah', 'jenis', 'kulitmu', 'utamakan',...</td>\n",
              "      <td>tahu jenis kulit utama produk kandung hydratin...</td>\n",
              "    </tr>\n",
              "    <tr>\n",
              "      <th>1</th>\n",
              "      <td>jiminee10</td>\n",
              "      <td>3</td>\n",
              "      <td>31-08-2022 5:02</td>\n",
              "      <td>fake</td>\n",
              "      <td>neutral</td>\n",
              "      <td>Salah satu facial wash dari drugstore yang lay...</td>\n",
              "      <td>Acnes Creamy Wash</td>\n",
              "      <td>167</td>\n",
              "      <td>1</td>\n",
              "      <td>salah satu facial wash dari drugstore yang lay...</td>\n",
              "      <td>...</td>\n",
              "      <td>salah satu facial wash dari drugstore yang lay...</td>\n",
              "      <td>salah satu facial wash dari drugstore yang lay...</td>\n",
              "      <td>salah satu facial wash dari drugstore yang lay...</td>\n",
              "      <td>salah satu facial wash dari drugstore yang lay...</td>\n",
              "      <td>salah satu facial wash dari drugstore yang lay...</td>\n",
              "      <td>salah satu facial wash dari drugstore yang lay...</td>\n",
              "      <td>salah satu facial wash dari drugstore yang lay...</td>\n",
              "      <td>['salah', 'satu', 'facial', 'wash', 'dari', 'd...</td>\n",
              "      <td>['salah', 'facial', 'wash', 'drugstore', 'laya...</td>\n",
              "      <td>salah facial wash drugstore layak coba busa ku...</td>\n",
              "    </tr>\n",
              "    <tr>\n",
              "      <th>2</th>\n",
              "      <td>srihastutik1987</td>\n",
              "      <td>3</td>\n",
              "      <td>2024-05-22 22:24</td>\n",
              "      <td>fake</td>\n",
              "      <td>neutral</td>\n",
              "      <td>Efek:memberikan kulit tampak lebih cerah\\n Tek...</td>\n",
              "      <td>MS GLOW FACIAL WASH</td>\n",
              "      <td>103</td>\n",
              "      <td>1</td>\n",
              "      <td>efek:memberikan kulit tampak lebih cerah\\n tek...</td>\n",
              "      <td>...</td>\n",
              "      <td>efek:memberikan kulit tampak lebih cerah\\n tek...</td>\n",
              "      <td>efek memberikan kulit tampak lebih cerah tekst...</td>\n",
              "      <td>efek memberikan kulit tampak lebih cerah tekst...</td>\n",
              "      <td>efek memberikan kulit tampak lebih cerah tekst...</td>\n",
              "      <td>efek memberikan kulit tampak lebih cerah tekst...</td>\n",
              "      <td>efek memberikan kulit tampak lebih cerah tekst...</td>\n",
              "      <td>efek memberikan kulit tampak lebih cerah tekst...</td>\n",
              "      <td>['efek', 'memberikan', 'kulit', 'tampak', 'leb...</td>\n",
              "      <td>['efek', 'kulit', 'cerah', 'tekstur', 'lembut'...</td>\n",
              "      <td>efek kulit cerah tekstur lembut nyaman asli ba...</td>\n",
              "    </tr>\n",
              "    <tr>\n",
              "      <th>3</th>\n",
              "      <td>Aisyah_18</td>\n",
              "      <td>3</td>\n",
              "      <td>01-11-2021 11:32</td>\n",
              "      <td>fake</td>\n",
              "      <td>neutral</td>\n",
              "      <td>cukup memuaskan dengan harga yang terjangkau ...</td>\n",
              "      <td>Acnes Creamy Wash</td>\n",
              "      <td>104</td>\n",
              "      <td>1</td>\n",
              "      <td>cukup memuaskan dengan harga yang terjangkau ...</td>\n",
              "      <td>...</td>\n",
              "      <td>cukup memuaskan dengan harga yang terjangkau ...</td>\n",
              "      <td>cukup memuaskan dengan harga yang terjangkau d...</td>\n",
              "      <td>cukup memuaskan dengan harga yang terjangkau d...</td>\n",
              "      <td>cukup memuaskan dengan harga yang terjangkau d...</td>\n",
              "      <td>cukup memuaskan dengan harga yang terjangkau d...</td>\n",
              "      <td>cukup memuaskan dengan harga yang terjangkau d...</td>\n",
              "      <td>cukup memuaskan dengan harga yang terjangkau d...</td>\n",
              "      <td>['cukup', 'memuaskan', 'dengan', 'harga', 'yan...</td>\n",
              "      <td>['memuaskan', 'harga', 'terjangkau', 'kualitas...</td>\n",
              "      <td>muas harga jangkau kualitas lumayan sedia mark...</td>\n",
              "    </tr>\n",
              "    <tr>\n",
              "      <th>4</th>\n",
              "      <td>christinjuniarti</td>\n",
              "      <td>3</td>\n",
              "      <td>29-06-2018 1:01</td>\n",
              "      <td>trusted</td>\n",
              "      <td>neutral</td>\n",
              "      <td>Dr segi packaging sih oke2 aja dan bisa liat w...</td>\n",
              "      <td>Lip Cream LA Girl</td>\n",
              "      <td>431</td>\n",
              "      <td>1</td>\n",
              "      <td>dr segi packaging sih oke2 aja dan bisa liat w...</td>\n",
              "      <td>...</td>\n",
              "      <td>dr segi packaging sih oke  aja dan bisa liat w...</td>\n",
              "      <td>dr segi packaging sih oke aja dan bisa liat wa...</td>\n",
              "      <td>dr segi packaging sih oke aja dan bisa liat wa...</td>\n",
              "      <td>dr segi packaging sih oke aja dan bisa liat wa...</td>\n",
              "      <td>dr segi packaging sih oke aja dan bisa liat wa...</td>\n",
              "      <td>dari segi packaging sih oke saja dan bisa liha...</td>\n",
              "      <td>dari segi packaging sih oke saja dan bisa liha...</td>\n",
              "      <td>['dari', 'segi', 'packaging', 'sih', 'oke', 's...</td>\n",
              "      <td>['segi', 'packaging', 'oke', 'warna', 'produk'...</td>\n",
              "      <td>segi packaging oke warna produk dalam pas dico...</td>\n",
              "    </tr>\n",
              "  </tbody>\n",
              "</table>\n",
              "<p>5 rows × 22 columns</p>\n",
              "</div>\n",
              "    <div class=\"colab-df-buttons\">\n",
              "\n",
              "  <div class=\"colab-df-container\">\n",
              "    <button class=\"colab-df-convert\" onclick=\"convertToInteractive('df-bac22f24-09ce-4bd4-a0af-ffdcecf95e3c')\"\n",
              "            title=\"Convert this dataframe to an interactive table.\"\n",
              "            style=\"display:none;\">\n",
              "\n",
              "  <svg xmlns=\"http://www.w3.org/2000/svg\" height=\"24px\" viewBox=\"0 -960 960 960\">\n",
              "    <path d=\"M120-120v-720h720v720H120Zm60-500h600v-160H180v160Zm220 220h160v-160H400v160Zm0 220h160v-160H400v160ZM180-400h160v-160H180v160Zm440 0h160v-160H620v160ZM180-180h160v-160H180v160Zm440 0h160v-160H620v160Z\"/>\n",
              "  </svg>\n",
              "    </button>\n",
              "\n",
              "  <style>\n",
              "    .colab-df-container {\n",
              "      display:flex;\n",
              "      gap: 12px;\n",
              "    }\n",
              "\n",
              "    .colab-df-convert {\n",
              "      background-color: #E8F0FE;\n",
              "      border: none;\n",
              "      border-radius: 50%;\n",
              "      cursor: pointer;\n",
              "      display: none;\n",
              "      fill: #1967D2;\n",
              "      height: 32px;\n",
              "      padding: 0 0 0 0;\n",
              "      width: 32px;\n",
              "    }\n",
              "\n",
              "    .colab-df-convert:hover {\n",
              "      background-color: #E2EBFA;\n",
              "      box-shadow: 0px 1px 2px rgba(60, 64, 67, 0.3), 0px 1px 3px 1px rgba(60, 64, 67, 0.15);\n",
              "      fill: #174EA6;\n",
              "    }\n",
              "\n",
              "    .colab-df-buttons div {\n",
              "      margin-bottom: 4px;\n",
              "    }\n",
              "\n",
              "    [theme=dark] .colab-df-convert {\n",
              "      background-color: #3B4455;\n",
              "      fill: #D2E3FC;\n",
              "    }\n",
              "\n",
              "    [theme=dark] .colab-df-convert:hover {\n",
              "      background-color: #434B5C;\n",
              "      box-shadow: 0px 1px 3px 1px rgba(0, 0, 0, 0.15);\n",
              "      filter: drop-shadow(0px 1px 2px rgba(0, 0, 0, 0.3));\n",
              "      fill: #FFFFFF;\n",
              "    }\n",
              "  </style>\n",
              "\n",
              "    <script>\n",
              "      const buttonEl =\n",
              "        document.querySelector('#df-bac22f24-09ce-4bd4-a0af-ffdcecf95e3c button.colab-df-convert');\n",
              "      buttonEl.style.display =\n",
              "        google.colab.kernel.accessAllowed ? 'block' : 'none';\n",
              "\n",
              "      async function convertToInteractive(key) {\n",
              "        const element = document.querySelector('#df-bac22f24-09ce-4bd4-a0af-ffdcecf95e3c');\n",
              "        const dataTable =\n",
              "          await google.colab.kernel.invokeFunction('convertToInteractive',\n",
              "                                                    [key], {});\n",
              "        if (!dataTable) return;\n",
              "\n",
              "        const docLinkHtml = 'Like what you see? Visit the ' +\n",
              "          '<a target=\"_blank\" href=https://colab.research.google.com/notebooks/data_table.ipynb>data table notebook</a>'\n",
              "          + ' to learn more about interactive tables.';\n",
              "        element.innerHTML = '';\n",
              "        dataTable['output_type'] = 'display_data';\n",
              "        await google.colab.output.renderOutput(dataTable, element);\n",
              "        const docLink = document.createElement('div');\n",
              "        docLink.innerHTML = docLinkHtml;\n",
              "        element.appendChild(docLink);\n",
              "      }\n",
              "    </script>\n",
              "  </div>\n",
              "\n",
              "\n",
              "<div id=\"df-ea8738f6-e467-4921-bdc8-4c454b5418f0\">\n",
              "  <button class=\"colab-df-quickchart\" onclick=\"quickchart('df-ea8738f6-e467-4921-bdc8-4c454b5418f0')\"\n",
              "            title=\"Suggest charts\"\n",
              "            style=\"display:none;\">\n",
              "\n",
              "<svg xmlns=\"http://www.w3.org/2000/svg\" height=\"24px\"viewBox=\"0 0 24 24\"\n",
              "     width=\"24px\">\n",
              "    <g>\n",
              "        <path d=\"M19 3H5c-1.1 0-2 .9-2 2v14c0 1.1.9 2 2 2h14c1.1 0 2-.9 2-2V5c0-1.1-.9-2-2-2zM9 17H7v-7h2v7zm4 0h-2V7h2v10zm4 0h-2v-4h2v4z\"/>\n",
              "    </g>\n",
              "</svg>\n",
              "  </button>\n",
              "\n",
              "<style>\n",
              "  .colab-df-quickchart {\n",
              "      --bg-color: #E8F0FE;\n",
              "      --fill-color: #1967D2;\n",
              "      --hover-bg-color: #E2EBFA;\n",
              "      --hover-fill-color: #174EA6;\n",
              "      --disabled-fill-color: #AAA;\n",
              "      --disabled-bg-color: #DDD;\n",
              "  }\n",
              "\n",
              "  [theme=dark] .colab-df-quickchart {\n",
              "      --bg-color: #3B4455;\n",
              "      --fill-color: #D2E3FC;\n",
              "      --hover-bg-color: #434B5C;\n",
              "      --hover-fill-color: #FFFFFF;\n",
              "      --disabled-bg-color: #3B4455;\n",
              "      --disabled-fill-color: #666;\n",
              "  }\n",
              "\n",
              "  .colab-df-quickchart {\n",
              "    background-color: var(--bg-color);\n",
              "    border: none;\n",
              "    border-radius: 50%;\n",
              "    cursor: pointer;\n",
              "    display: none;\n",
              "    fill: var(--fill-color);\n",
              "    height: 32px;\n",
              "    padding: 0;\n",
              "    width: 32px;\n",
              "  }\n",
              "\n",
              "  .colab-df-quickchart:hover {\n",
              "    background-color: var(--hover-bg-color);\n",
              "    box-shadow: 0 1px 2px rgba(60, 64, 67, 0.3), 0 1px 3px 1px rgba(60, 64, 67, 0.15);\n",
              "    fill: var(--button-hover-fill-color);\n",
              "  }\n",
              "\n",
              "  .colab-df-quickchart-complete:disabled,\n",
              "  .colab-df-quickchart-complete:disabled:hover {\n",
              "    background-color: var(--disabled-bg-color);\n",
              "    fill: var(--disabled-fill-color);\n",
              "    box-shadow: none;\n",
              "  }\n",
              "\n",
              "  .colab-df-spinner {\n",
              "    border: 2px solid var(--fill-color);\n",
              "    border-color: transparent;\n",
              "    border-bottom-color: var(--fill-color);\n",
              "    animation:\n",
              "      spin 1s steps(1) infinite;\n",
              "  }\n",
              "\n",
              "  @keyframes spin {\n",
              "    0% {\n",
              "      border-color: transparent;\n",
              "      border-bottom-color: var(--fill-color);\n",
              "      border-left-color: var(--fill-color);\n",
              "    }\n",
              "    20% {\n",
              "      border-color: transparent;\n",
              "      border-left-color: var(--fill-color);\n",
              "      border-top-color: var(--fill-color);\n",
              "    }\n",
              "    30% {\n",
              "      border-color: transparent;\n",
              "      border-left-color: var(--fill-color);\n",
              "      border-top-color: var(--fill-color);\n",
              "      border-right-color: var(--fill-color);\n",
              "    }\n",
              "    40% {\n",
              "      border-color: transparent;\n",
              "      border-right-color: var(--fill-color);\n",
              "      border-top-color: var(--fill-color);\n",
              "    }\n",
              "    60% {\n",
              "      border-color: transparent;\n",
              "      border-right-color: var(--fill-color);\n",
              "    }\n",
              "    80% {\n",
              "      border-color: transparent;\n",
              "      border-right-color: var(--fill-color);\n",
              "      border-bottom-color: var(--fill-color);\n",
              "    }\n",
              "    90% {\n",
              "      border-color: transparent;\n",
              "      border-bottom-color: var(--fill-color);\n",
              "    }\n",
              "  }\n",
              "</style>\n",
              "\n",
              "  <script>\n",
              "    async function quickchart(key) {\n",
              "      const quickchartButtonEl =\n",
              "        document.querySelector('#' + key + ' button');\n",
              "      quickchartButtonEl.disabled = true;  // To prevent multiple clicks.\n",
              "      quickchartButtonEl.classList.add('colab-df-spinner');\n",
              "      try {\n",
              "        const charts = await google.colab.kernel.invokeFunction(\n",
              "            'suggestCharts', [key], {});\n",
              "      } catch (error) {\n",
              "        console.error('Error during call to suggestCharts:', error);\n",
              "      }\n",
              "      quickchartButtonEl.classList.remove('colab-df-spinner');\n",
              "      quickchartButtonEl.classList.add('colab-df-quickchart-complete');\n",
              "    }\n",
              "    (() => {\n",
              "      let quickchartButtonEl =\n",
              "        document.querySelector('#df-ea8738f6-e467-4921-bdc8-4c454b5418f0 button');\n",
              "      quickchartButtonEl.style.display =\n",
              "        google.colab.kernel.accessAllowed ? 'block' : 'none';\n",
              "    })();\n",
              "  </script>\n",
              "</div>\n",
              "\n",
              "    </div>\n",
              "  </div>\n"
            ],
            "application/vnd.google.colaboratory.intrinsic+json": {
              "type": "dataframe",
              "variable_name": "df"
            }
          },
          "metadata": {},
          "execution_count": 3
        }
      ]
    },
    {
      "cell_type": "code",
      "source": [
        "df.info()"
      ],
      "metadata": {
        "execution": {
          "iopub.status.busy": "2024-05-28T00:01:32.880978Z",
          "iopub.execute_input": "2024-05-28T00:01:32.881438Z",
          "iopub.status.idle": "2024-05-28T00:01:32.897656Z",
          "shell.execute_reply.started": "2024-05-28T00:01:32.881395Z",
          "shell.execute_reply": "2024-05-28T00:01:32.896271Z"
        },
        "trusted": true,
        "id": "R1kQfbXWMrc0",
        "colab": {
          "base_uri": "https://localhost:8080/"
        },
        "outputId": "e7e566d4-3d9f-40e4-9082-863f73f94f59"
      },
      "execution_count": 4,
      "outputs": [
        {
          "output_type": "stream",
          "name": "stdout",
          "text": [
            "<class 'pandas.core.frame.DataFrame'>\n",
            "RangeIndex: 2400 entries, 0 to 2399\n",
            "Data columns (total 22 columns):\n",
            " #   Column                 Non-Null Count  Dtype \n",
            "---  ------                 --------------  ----- \n",
            " 0   username               2400 non-null   object\n",
            " 1   rate                   2400 non-null   int64 \n",
            " 2   date                   2400 non-null   object\n",
            " 3   label                  2400 non-null   object\n",
            " 4   sentimen               2400 non-null   object\n",
            " 5   reviews                2400 non-null   object\n",
            " 6   produk                 2400 non-null   object\n",
            " 7   text_length            2400 non-null   int64 \n",
            " 8   anomaly_score          2400 non-null   int64 \n",
            " 9   lowercase_reviews      2400 non-null   object\n",
            " 10  no_emoji_reviews       2400 non-null   object\n",
            " 11  no_hastag_reviews      2400 non-null   object\n",
            " 12  no_number_reviews      2400 non-null   object\n",
            " 13  no_atribut_reviews     2400 non-null   object\n",
            " 14  no_repetition_reviews  2400 non-null   object\n",
            " 15  no_whitespace_reviews  2400 non-null   object\n",
            " 16  no_banned_reviews      2400 non-null   object\n",
            " 17  no_slang_reviews       2400 non-null   object\n",
            " 18  clean_reviews          2400 non-null   object\n",
            " 19  tokens_reviews         2400 non-null   object\n",
            " 20  stopword_reviews       2400 non-null   object\n",
            " 21  stem_reviews           2385 non-null   object\n",
            "dtypes: int64(3), object(19)\n",
            "memory usage: 412.6+ KB\n"
          ]
        }
      ]
    },
    {
      "cell_type": "markdown",
      "source": [
        "# Modeling"
      ],
      "metadata": {
        "id": "Kqooa_giMrc3"
      }
    },
    {
      "cell_type": "markdown",
      "source": [
        "## LSTM"
      ],
      "metadata": {
        "id": "i6sMUJOgks43"
      }
    },
    {
      "cell_type": "code",
      "source": [
        "import pandas as pd\n",
        "import numpy as np\n",
        "import tensorflow as tf\n",
        "from tensorflow.keras.layers import Embedding, LSTM, Dense, Input, concatenate, Dropout, Bidirectional, Conv1D, MaxPooling1D, GlobalMaxPooling1D\n",
        "from keras.regularizers import l1, l2\n",
        "from tensorflow.keras.models import Model\n",
        "from sklearn.model_selection import train_test_split\n",
        "from sklearn.preprocessing import LabelEncoder\n",
        "from tensorflow.keras.preprocessing.text import Tokenizer\n",
        "from tensorflow.keras.preprocessing.sequence import pad_sequences\n",
        "from gensim.models import Word2Vec\n",
        "from keras.optimizers import Adam\n"
      ],
      "metadata": {
        "execution": {
          "iopub.status.busy": "2024-05-28T00:01:39.287797Z",
          "iopub.execute_input": "2024-05-28T00:01:39.288850Z",
          "iopub.status.idle": "2024-05-28T00:01:39.297916Z",
          "shell.execute_reply.started": "2024-05-28T00:01:39.288799Z",
          "shell.execute_reply": "2024-05-28T00:01:39.296401Z"
        },
        "trusted": true,
        "id": "qCzBQP6ZMrc3"
      },
      "execution_count": null,
      "outputs": []
    },
    {
      "cell_type": "code",
      "source": [
        "# Encode labels\n",
        "label_encoder_review = LabelEncoder()\n",
        "label_encoder_sentiment = LabelEncoder()\n",
        "df['label_encoded'] = label_encoder_review.fit_transform(df['label'])\n",
        "df['sentiment_encoded'] = label_encoder_sentiment.fit_transform(df['sentimen'])"
      ],
      "metadata": {
        "execution": {
          "iopub.status.busy": "2024-05-28T00:01:39.299747Z",
          "iopub.execute_input": "2024-05-28T00:01:39.300288Z",
          "iopub.status.idle": "2024-05-28T00:01:39.313878Z",
          "shell.execute_reply.started": "2024-05-28T00:01:39.300233Z",
          "shell.execute_reply": "2024-05-28T00:01:39.312390Z"
        },
        "trusted": true,
        "id": "ifTI2d0BMrc4"
      },
      "execution_count": null,
      "outputs": []
    },
    {
      "cell_type": "code",
      "source": [
        "# Tokenization and Padding\n",
        "tokenizer = Tokenizer()\n",
        "tokenizer.fit_on_texts(df['stem_reviews'])\n",
        "sequences = tokenizer.texts_to_sequences(df['stem_reviews'])\n",
        "word_index = tokenizer.word_index"
      ],
      "metadata": {
        "execution": {
          "iopub.status.busy": "2024-05-28T00:01:39.315607Z",
          "iopub.execute_input": "2024-05-28T00:01:39.316017Z",
          "iopub.status.idle": "2024-05-28T00:01:39.573144Z",
          "shell.execute_reply.started": "2024-05-28T00:01:39.315978Z",
          "shell.execute_reply": "2024-05-28T00:01:39.572104Z"
        },
        "trusted": true,
        "id": "X9q38VgNMrc4"
      },
      "execution_count": null,
      "outputs": []
    },
    {
      "cell_type": "code",
      "source": [
        "# Padding sequences\n",
        "max_sequence_length = 150  # Adjust as needed\n",
        "data = pad_sequences(sequences, maxlen=max_sequence_length)"
      ],
      "metadata": {
        "execution": {
          "iopub.status.busy": "2024-05-28T00:01:39.574434Z",
          "iopub.execute_input": "2024-05-28T00:01:39.574754Z",
          "iopub.status.idle": "2024-05-28T00:01:39.613638Z",
          "shell.execute_reply.started": "2024-05-28T00:01:39.574727Z",
          "shell.execute_reply": "2024-05-28T00:01:39.612554Z"
        },
        "trusted": true,
        "id": "MVkSBeGHMrc4"
      },
      "execution_count": null,
      "outputs": []
    },
    {
      "cell_type": "code",
      "source": [
        "# Prepare embedding matrix with Word2Vec\n",
        "w2v_model = Word2Vec(sentences=[text.split() for text in df['stem_reviews']], vector_size=100, window=5, min_count=1, workers=4)\n",
        "embedding_matrix = np.zeros((len(word_index) + 1, 100))\n",
        "for word, i in word_index.items():\n",
        "    if word in w2v_model.wv:\n",
        "        embedding_matrix[i] = w2v_model.wv[word]"
      ],
      "metadata": {
        "execution": {
          "iopub.status.busy": "2024-05-28T00:01:39.615038Z",
          "iopub.execute_input": "2024-05-28T00:01:39.615384Z",
          "iopub.status.idle": "2024-05-28T00:01:40.648215Z",
          "shell.execute_reply.started": "2024-05-28T00:01:39.615355Z",
          "shell.execute_reply": "2024-05-28T00:01:40.646993Z"
        },
        "trusted": true,
        "id": "yadvIl_LMrc4"
      },
      "execution_count": null,
      "outputs": []
    },
    {
      "cell_type": "code",
      "source": [
        "# Split the data\n",
        "X_train, X_test, y_train_label, y_test_label, y_train_sentiment, y_test_sentiment = train_test_split(\n",
        "    data, df['label_encoded'], df['sentiment_encoded'], test_size=0.2, random_state=42\n",
        ")"
      ],
      "metadata": {
        "execution": {
          "iopub.status.busy": "2024-05-28T00:01:40.649725Z",
          "iopub.execute_input": "2024-05-28T00:01:40.650121Z",
          "iopub.status.idle": "2024-05-28T00:01:40.660502Z",
          "shell.execute_reply.started": "2024-05-28T00:01:40.650087Z",
          "shell.execute_reply": "2024-05-28T00:01:40.659274Z"
        },
        "trusted": true,
        "id": "jrgX818QMrc4"
      },
      "execution_count": null,
      "outputs": []
    },
    {
      "cell_type": "code",
      "source": [
        "# Define the model\n",
        "input_ = Input(shape=(max_sequence_length,))\n",
        "embedding_layer = Embedding(input_dim=len(word_index) + 1, output_dim=100, input_length=max_sequence_length, trainable=False)\n",
        "embedding_layer.build((None,))  # Build the embedding layer\n",
        "embedding_layer.set_weights([embedding_matrix])  # Set the weights of the embedding layer\n",
        "\n",
        "embedding = embedding_layer(input_)\n",
        "embedding = Dropout(0.5)(embedding)"
      ],
      "metadata": {
        "execution": {
          "iopub.status.busy": "2024-05-28T00:01:40.662141Z",
          "iopub.execute_input": "2024-05-28T00:01:40.662612Z",
          "iopub.status.idle": "2024-05-28T00:01:40.742362Z",
          "shell.execute_reply.started": "2024-05-28T00:01:40.662557Z",
          "shell.execute_reply": "2024-05-28T00:01:40.741328Z"
        },
        "trusted": true,
        "id": "yMw08lVgMrc4"
      },
      "execution_count": null,
      "outputs": []
    },
    {
      "cell_type": "code",
      "source": [
        "# Convolutional layer\n",
        "conv = Conv1D(filters=64, kernel_size=5, activation='relu', kernel_regularizer=l2(0.01))(embedding)\n",
        "conv = MaxPooling1D(pool_size=2)(conv)\n",
        "conv = Dropout(0.5)(conv)\n"
      ],
      "metadata": {
        "id": "0kXwIHoY36wK"
      },
      "execution_count": null,
      "outputs": []
    },
    {
      "cell_type": "code",
      "source": [
        "# # LSTM layer\n",
        "lstm_out = LSTM(128, return_sequences=True, kernel_regularizer=l2(0.01))(embedding)\n",
        "lstm_out = Dropout(0.5)(lstm_out)  # Add dropout after first LSTM\n",
        "lstm_out = LSTM(64, kernel_regularizer=l2(0.01))(lstm_out)\n",
        "lstm_out = Dropout(0.5)(lstm_out)  # Add dropout after second LSTM"
      ],
      "metadata": {
        "execution": {
          "iopub.status.busy": "2024-05-28T00:01:40.743600Z",
          "iopub.execute_input": "2024-05-28T00:01:40.743917Z",
          "iopub.status.idle": "2024-05-28T00:01:40.823676Z",
          "shell.execute_reply.started": "2024-05-28T00:01:40.743889Z",
          "shell.execute_reply": "2024-05-28T00:01:40.822382Z"
        },
        "trusted": true,
        "id": "JTSATCmmMrc4"
      },
      "execution_count": null,
      "outputs": []
    },
    {
      "cell_type": "code",
      "source": [
        "# Bidirectional LSTM layers\n",
        "lstm_out = Bidirectional(LSTM(128, return_sequences=True, kernel_regularizer=l2(0.01)))(conv)\n",
        "lstm_out = Dropout(0.5)(lstm_out)  # Add dropout after first Bidirectional LSTM\n",
        "lstm_out = Bidirectional(LSTM(64, return_sequences=True, kernel_regularizer=l2(0.01)))(lstm_out)\n",
        "lstm_out = Dropout(0.5)(lstm_out)  # Add dropout after second Bidirectional LSTM\n",
        "lstm_out = LSTM(32, kernel_regularizer=l2(0.01))(lstm_out)\n",
        "lstm_out = Dropout(0.5)(lstm_out)  # Add dropout after third LSTM"
      ],
      "metadata": {
        "id": "Vv6xbctk3vgV"
      },
      "execution_count": null,
      "outputs": []
    },
    {
      "cell_type": "code",
      "source": [
        "# Additional Dense and Dropout layers\n",
        "dense_out = Dense(128, activation='relu', kernel_regularizer=l2(0.01))(lstm_out)\n",
        "dense_out = Dropout(0.5)(dense_out)\n",
        "dense_out = Dense(64, activation='relu', kernel_regularizer=l2(0.01))(dense_out)\n",
        "dense_out = Dropout(0.5)(dense_out)\n",
        "dense_out = Dense(32, activation='relu', kernel_regularizer=l2(0.01))(dense_out)\n",
        "dense_out = Dropout(0.5)(dense_out)"
      ],
      "metadata": {
        "id": "4o9FGMrm21Vp"
      },
      "execution_count": null,
      "outputs": []
    },
    {
      "cell_type": "code",
      "source": [
        "# Output layers\n",
        "output_review = Dense(3, activation='softmax', name='review_output', kernel_regularizer=l2(0.01))(dense_out)\n",
        "output_sentiment = Dense(3, activation='softmax', name='sentiment_output', kernel_regularizer=l2(0.01))(dense_out)\n"
      ],
      "metadata": {
        "execution": {
          "iopub.status.busy": "2024-05-28T00:01:40.825077Z",
          "iopub.execute_input": "2024-05-28T00:01:40.825415Z",
          "iopub.status.idle": "2024-05-28T00:01:40.850461Z",
          "shell.execute_reply.started": "2024-05-28T00:01:40.825381Z",
          "shell.execute_reply": "2024-05-28T00:01:40.849329Z"
        },
        "trusted": true,
        "id": "FVy5B-ObMrc4"
      },
      "execution_count": null,
      "outputs": []
    },
    {
      "cell_type": "code",
      "source": [
        "# Combine into a model\n",
        "model = Model(inputs=input_, outputs=[output_review, output_sentiment])\n"
      ],
      "metadata": {
        "execution": {
          "iopub.status.busy": "2024-05-28T00:01:40.852016Z",
          "iopub.execute_input": "2024-05-28T00:01:40.852486Z",
          "iopub.status.idle": "2024-05-28T00:01:40.876506Z",
          "shell.execute_reply.started": "2024-05-28T00:01:40.852441Z",
          "shell.execute_reply": "2024-05-28T00:01:40.875071Z"
        },
        "trusted": true,
        "id": "c716ht2fMrc4"
      },
      "execution_count": null,
      "outputs": []
    },
    {
      "cell_type": "code",
      "source": [
        "# Summary of the model\n",
        "model.summary()"
      ],
      "metadata": {
        "execution": {
          "iopub.status.busy": "2024-05-28T00:01:40.878184Z",
          "iopub.execute_input": "2024-05-28T00:01:40.878642Z",
          "iopub.status.idle": "2024-05-28T00:01:40.908822Z",
          "shell.execute_reply.started": "2024-05-28T00:01:40.878602Z",
          "shell.execute_reply": "2024-05-28T00:01:40.907704Z"
        },
        "trusted": true,
        "id": "8I1cSf_bMrc5",
        "colab": {
          "base_uri": "https://localhost:8080/"
        },
        "outputId": "d4bc27ad-ad7e-452c-f258-9f060762ae1f"
      },
      "execution_count": null,
      "outputs": [
        {
          "output_type": "stream",
          "name": "stdout",
          "text": [
            "Model: \"model\"\n",
            "__________________________________________________________________________________________________\n",
            " Layer (type)                Output Shape                 Param #   Connected to                  \n",
            "==================================================================================================\n",
            " input_1 (InputLayer)        [(None, 150)]                0         []                            \n",
            "                                                                                                  \n",
            " embedding (Embedding)       (None, 150, 100)             274100    ['input_1[0][0]']             \n",
            "                                                                                                  \n",
            " dropout (Dropout)           (None, 150, 100)             0         ['embedding[0][0]']           \n",
            "                                                                                                  \n",
            " conv1d (Conv1D)             (None, 146, 64)              32064     ['dropout[0][0]']             \n",
            "                                                                                                  \n",
            " max_pooling1d (MaxPooling1  (None, 73, 64)               0         ['conv1d[0][0]']              \n",
            " D)                                                                                               \n",
            "                                                                                                  \n",
            " dropout_1 (Dropout)         (None, 73, 64)               0         ['max_pooling1d[0][0]']       \n",
            "                                                                                                  \n",
            " bidirectional (Bidirection  (None, 73, 256)              197632    ['dropout_1[0][0]']           \n",
            " al)                                                                                              \n",
            "                                                                                                  \n",
            " dropout_4 (Dropout)         (None, 73, 256)              0         ['bidirectional[0][0]']       \n",
            "                                                                                                  \n",
            " bidirectional_1 (Bidirecti  (None, 73, 128)              164352    ['dropout_4[0][0]']           \n",
            " onal)                                                                                            \n",
            "                                                                                                  \n",
            " dropout_5 (Dropout)         (None, 73, 128)              0         ['bidirectional_1[0][0]']     \n",
            "                                                                                                  \n",
            " lstm_4 (LSTM)               (None, 32)                   20608     ['dropout_5[0][0]']           \n",
            "                                                                                                  \n",
            " dropout_6 (Dropout)         (None, 32)                   0         ['lstm_4[0][0]']              \n",
            "                                                                                                  \n",
            " dense (Dense)               (None, 128)                  4224      ['dropout_6[0][0]']           \n",
            "                                                                                                  \n",
            " dropout_7 (Dropout)         (None, 128)                  0         ['dense[0][0]']               \n",
            "                                                                                                  \n",
            " dense_1 (Dense)             (None, 64)                   8256      ['dropout_7[0][0]']           \n",
            "                                                                                                  \n",
            " dropout_8 (Dropout)         (None, 64)                   0         ['dense_1[0][0]']             \n",
            "                                                                                                  \n",
            " dense_2 (Dense)             (None, 32)                   2080      ['dropout_8[0][0]']           \n",
            "                                                                                                  \n",
            " dropout_9 (Dropout)         (None, 32)                   0         ['dense_2[0][0]']             \n",
            "                                                                                                  \n",
            " review_output (Dense)       (None, 3)                    99        ['dropout_9[0][0]']           \n",
            "                                                                                                  \n",
            " sentiment_output (Dense)    (None, 3)                    99        ['dropout_9[0][0]']           \n",
            "                                                                                                  \n",
            "==================================================================================================\n",
            "Total params: 703514 (2.68 MB)\n",
            "Trainable params: 429414 (1.64 MB)\n",
            "Non-trainable params: 274100 (1.05 MB)\n",
            "__________________________________________________________________________________________________\n"
          ]
        }
      ]
    },
    {
      "cell_type": "code",
      "source": [
        "from keras.utils import plot_model\n",
        "\n",
        "# Visualize the model and save it to file\n",
        "plot_model(model, to_file='model_plot.png', show_shapes=True, show_layer_names=True)"
      ],
      "metadata": {
        "id": "gC7r9afsk341",
        "outputId": "d88d769d-9a46-4a69-8858-c45d43cbfd40",
        "colab": {
          "base_uri": "https://localhost:8080/",
          "height": 1000
        }
      },
      "execution_count": null,
      "outputs": [
        {
          "output_type": "execute_result",
          "data": {
            "image/png": "[encoded data removed]",
            "text/plain": [
              "<IPython.core.display.Image object>"
            ]
          },
          "metadata": {},
          "execution_count": 102
        }
      ]
    },
    {
      "cell_type": "code",
      "source": [
        "# Compile the model with metrics for each output\n",
        "optimizer = Adam(learning_rate=0.001)\n",
        "model.compile(optimizer='adam',\n",
        "              loss={'review_output': 'sparse_categorical_crossentropy', 'sentiment_output': 'sparse_categorical_crossentropy'},\n",
        "              metrics={'review_output': 'accuracy', 'sentiment_output': 'accuracy'})"
      ],
      "metadata": {
        "execution": {
          "iopub.status.busy": "2024-05-28T00:01:40.910147Z",
          "iopub.execute_input": "2024-05-28T00:01:40.910509Z",
          "iopub.status.idle": "2024-05-28T00:01:40.923256Z",
          "shell.execute_reply.started": "2024-05-28T00:01:40.910479Z",
          "shell.execute_reply": "2024-05-28T00:01:40.922033Z"
        },
        "trusted": true,
        "id": "NSg80RHnMrc5"
      },
      "execution_count": null,
      "outputs": []
    },
    {
      "cell_type": "code",
      "source": [
        "from keras.callbacks import EarlyStopping, ModelCheckpoint\n",
        "\n",
        "# Define Early Stopping and Model Checkpoint callbacks\n",
        "early_stopping = EarlyStopping(\n",
        "    monitor='val_loss',\n",
        "    patience=3,\n",
        "    restore_best_weights=True\n",
        ")\n",
        "\n",
        "model_checkpoint = ModelCheckpoint(\n",
        "    'best_model.keras',\n",
        "    monitor='val_loss',\n",
        "    save_best_only=True,\n",
        "    mode='min'\n",
        ")"
      ],
      "metadata": {
        "execution": {
          "iopub.status.busy": "2024-05-28T00:01:40.924779Z",
          "iopub.execute_input": "2024-05-28T00:01:40.925169Z",
          "iopub.status.idle": "2024-05-28T00:01:40.933809Z",
          "shell.execute_reply.started": "2024-05-28T00:01:40.925136Z",
          "shell.execute_reply": "2024-05-28T00:01:40.932580Z"
        },
        "trusted": true,
        "id": "8CedSvuMMrc5"
      },
      "execution_count": null,
      "outputs": []
    },
    {
      "cell_type": "code",
      "source": [
        "# # Train the model with callbacks\n",
        "# history = model.fit(\n",
        "#     X_train,\n",
        "#     {'review_output': y_train_label, 'sentiment_output': y_train_sentiment},\n",
        "#     epochs=36,\n",
        "#     batch_size=32,\n",
        "#     validation_split=0.2,\n",
        "#     callbacks=[early_stopping, model_checkpoint]\n",
        "#     # callbacks=[model_checkpoint]\n",
        "# )"
      ],
      "metadata": {
        "execution": {
          "iopub.status.busy": "2024-05-28T00:01:40.935359Z",
          "iopub.execute_input": "2024-05-28T00:01:40.935773Z",
          "iopub.status.idle": "2024-05-28T00:03:22.853935Z",
          "shell.execute_reply.started": "2024-05-28T00:01:40.935741Z",
          "shell.execute_reply": "2024-05-28T00:03:22.852868Z"
        },
        "trusted": true,
        "id": "RqkHqft2Mrc5",
        "collapsed": true
      },
      "execution_count": null,
      "outputs": []
    },
    {
      "cell_type": "code",
      "source": [
        "# Callbacks\n",
        "from keras.callbacks import EarlyStopping, ModelCheckpoint\n",
        "early_stopping = EarlyStopping(monitor='val_loss', patience=3, restore_best_weights=True)\n",
        "model_checkpoint = ModelCheckpoint('best_model.h5', monitor='val_loss', save_best_only=True)"
      ],
      "metadata": {
        "id": "X_jN39sGzJAR"
      },
      "execution_count": null,
      "outputs": []
    },
    {
      "cell_type": "code",
      "source": [
        "# Evaluate the model\n",
        "results = model.evaluate(X_test, {'review_output': y_test_label, 'sentiment_output': y_test_sentiment})\n",
        "print(f'Test results - Loss: {results[0]} - Review Output Loss: {results[1]} - Sentiment Output Loss: {results[2]}')"
      ],
      "metadata": {
        "execution": {
          "iopub.status.busy": "2024-05-28T00:03:22.855734Z",
          "iopub.execute_input": "2024-05-28T00:03:22.856133Z",
          "iopub.status.idle": "2024-05-28T00:03:24.301046Z",
          "shell.execute_reply.started": "2024-05-28T00:03:22.856099Z",
          "shell.execute_reply": "2024-05-28T00:03:24.299804Z"
        },
        "trusted": true,
        "id": "H-msaK-IMrc5",
        "colab": {
          "base_uri": "https://localhost:8080/"
        },
        "outputId": "15f8ba06-2357-4b50-8f1d-0a87fcb664d5"
      },
      "execution_count": null,
      "outputs": [
        {
          "output_type": "stream",
          "name": "stdout",
          "text": [
            "15/15 [==============================] - 6s 140ms/step - loss: 13.5432 - review_output_loss: 1.0990 - sentiment_output_loss: 1.0989 - review_output_accuracy: 0.2500 - sentiment_output_accuracy: 0.2937\n",
            "Test results - Loss: 13.543160438537598 - Review Output Loss: 1.0990222692489624 - Sentiment Output Loss: 1.098884105682373\n"
          ]
        }
      ]
    },
    {
      "cell_type": "code",
      "source": [
        "# import matplotlib.pyplot as plt\n",
        "\n",
        "# # Plot learning curve\n",
        "# def plot_learning_curve(history):\n",
        "#     plt.figure(figsize=(12, 6))\n",
        "\n",
        "#     # Plot accuracy\n",
        "#     plt.subplot(1, 2, 1)\n",
        "#     plt.plot(history.history['review_output_accuracy'], label='Review Output Accuracy')\n",
        "#     plt.plot(history.history['val_review_output_accuracy'], label='Validation Review Output Accuracy')\n",
        "#     plt.plot(history.history['sentiment_output_accuracy'], label='Sentiment Output Accuracy')\n",
        "#     plt.plot(history.history['val_sentiment_output_accuracy'], label='Validation Sentiment Output Accuracy')\n",
        "#     plt.title('Model Accuracy')\n",
        "#     plt.xlabel('Epoch')\n",
        "#     plt.ylabel('Accuracy')\n",
        "#     plt.legend()\n",
        "\n",
        "#     # Plot loss\n",
        "#     plt.subplot(1, 2, 2)\n",
        "#     plt.plot(history.history['loss'], label='Loss')\n",
        "#     plt.plot(history.history['val_loss'], label='Validation Loss')\n",
        "#     plt.title('Model Loss')\n",
        "#     plt.xlabel('Epoch')\n",
        "#     plt.ylabel('Loss')\n",
        "#     plt.legend()\n",
        "\n",
        "#     plt.show()\n",
        "\n",
        "# # Plot learning curve\n",
        "# plot_learning_curve(history)\n"
      ],
      "metadata": {
        "execution": {
          "iopub.status.busy": "2024-05-28T00:04:11.932444Z",
          "iopub.execute_input": "2024-05-28T00:04:11.932873Z",
          "iopub.status.idle": "2024-05-28T00:04:12.728258Z",
          "shell.execute_reply.started": "2024-05-28T00:04:11.932841Z",
          "shell.execute_reply": "2024-05-28T00:04:12.727023Z"
        },
        "trusted": true,
        "id": "YkQZF9YPMrdB"
      },
      "execution_count": null,
      "outputs": []
    },
    {
      "cell_type": "code",
      "source": [
        "\n",
        "# from sklearn.metrics import confusion_matrix, ConfusionMatrixDisplay, classification_report, accuracy_score\n",
        "# from sklearn.preprocessing import LabelEncoder\n",
        "\n",
        "# # Predict on the test set\n",
        "# y_test_pred_review = np.argmax(model.predict(X_test)[0], axis=1)\n",
        "# y_test_pred_sentiment = np.argmax(model.predict(X_test)[1], axis=1)\n",
        "\n",
        "# # Convert labels back to original encoding\n",
        "# y_test_true_review = y_test_label\n",
        "# y_test_true_sentiment = y_test_sentiment"
      ],
      "metadata": {
        "execution": {
          "iopub.status.idle": "2024-05-28T00:03:27.695300Z",
          "shell.execute_reply.started": "2024-05-28T00:03:25.116545Z",
          "shell.execute_reply": "2024-05-28T00:03:27.694023Z"
        },
        "trusted": true,
        "id": "peZBKeSLMrdB"
      },
      "execution_count": null,
      "outputs": []
    },
    {
      "cell_type": "code",
      "source": [
        "# # Plot confusion matrix for review prediction\n",
        "# cm_review = confusion_matrix(y_test_true_review, y_test_pred_review)\n",
        "# disp_review = ConfusionMatrixDisplay(confusion_matrix=cm_review, display_labels=label_encoder_review.classes_)\n",
        "# disp_review.plot(cmap=plt.cm.Blues)\n",
        "# plt.title('Confusion Matrix for Review Classification')\n",
        "# plt.show()"
      ],
      "metadata": {
        "execution": {
          "iopub.status.busy": "2024-05-28T00:03:27.697527Z",
          "iopub.execute_input": "2024-05-28T00:03:27.698036Z",
          "iopub.status.idle": "2024-05-28T00:03:28.131619Z",
          "shell.execute_reply.started": "2024-05-28T00:03:27.697990Z",
          "shell.execute_reply": "2024-05-28T00:03:28.130423Z"
        },
        "trusted": true,
        "id": "mHcfDk5sMrdB"
      },
      "execution_count": null,
      "outputs": []
    },
    {
      "cell_type": "code",
      "source": [
        "# print(classification_report(y_test_true_review, y_test_pred_review, digits = 4))\n",
        "\n",
        "# print(\"Accuracy score: \", accuracy_score(y_test_true_review, y_test_pred_review) * 100, '%')"
      ],
      "metadata": {
        "id": "nOUdDskvpFbF"
      },
      "execution_count": null,
      "outputs": []
    },
    {
      "cell_type": "code",
      "source": [
        "# # Plot confusion matrix for sentiment prediction\n",
        "# cm_sentiment = confusion_matrix(y_test_true_sentiment, y_test_pred_sentiment)\n",
        "# disp_sentiment = ConfusionMatrixDisplay(confusion_matrix=cm_sentiment, display_labels=label_encoder_sentiment.classes_)\n",
        "# disp_sentiment.plot(cmap=plt.cm.Blues)\n",
        "# plt.title('Confusion Matrix for Sentiment Classification')\n",
        "# plt.show()"
      ],
      "metadata": {
        "execution": {
          "iopub.status.busy": "2024-05-28T00:03:28.140471Z",
          "iopub.execute_input": "2024-05-28T00:03:28.140894Z",
          "iopub.status.idle": "2024-05-28T00:03:28.579802Z",
          "shell.execute_reply.started": "2024-05-28T00:03:28.140863Z",
          "shell.execute_reply": "2024-05-28T00:03:28.578665Z"
        },
        "trusted": true,
        "id": "-sdXabYOMrdB"
      },
      "execution_count": null,
      "outputs": []
    },
    {
      "cell_type": "code",
      "source": [
        "# print(classification_report(y_test_true_sentiment, y_test_pred_sentiment, digits = 4))\n",
        "\n",
        "# print(\"Accuracy score: \", accuracy_score(y_test_true_sentiment, y_test_pred_sentiment) * 100, '%')"
      ],
      "metadata": {
        "id": "vUha04fqrpFC"
      },
      "execution_count": null,
      "outputs": []
    },
    {
      "cell_type": "markdown",
      "source": [
        "## BERT"
      ],
      "metadata": {
        "id": "zNk3-slik0OY"
      }
    },
    {
      "cell_type": "markdown",
      "source": [
        "### Setup"
      ],
      "metadata": {
        "id": "E46MxZqXmEz6"
      }
    },
    {
      "cell_type": "code",
      "source": [
        "!pip install transformers tensorflow matplotlib\n",
        "\n",
        "import numpy as np\n",
        "import pandas as pd\n",
        "import tensorflow as tf\n",
        "from transformers import AutoTokenizer, TFBertModel\n",
        "import matplotlib.pyplot as plt\n",
        "from sklearn.preprocessing import LabelEncoder\n",
        "from sklearn.model_selection import train_test_split"
      ],
      "metadata": {
        "id": "hsq--ieZ6RvP",
        "outputId": "2395856f-e92f-4124-c02e-61d1b402996d",
        "colab": {
          "base_uri": "https://localhost:8080/"
        }
      },
      "execution_count": null,
      "outputs": [
        {
          "output_type": "stream",
          "name": "stdout",
          "text": [
            "Requirement already satisfied: transformers in /usr/local/lib/python3.10/dist-packages (4.41.2)\n",
            "Requirement already satisfied: tensorflow in /usr/local/lib/python3.10/dist-packages (2.15.0)\n",
            "Requirement already satisfied: matplotlib in /usr/local/lib/python3.10/dist-packages (3.7.1)\n",
            "Requirement already satisfied: filelock in /usr/local/lib/python3.10/dist-packages (from transformers) (3.14.0)\n",
            "Requirement already satisfied: huggingface-hub<1.0,>=0.23.0 in /usr/local/lib/python3.10/dist-packages (from transformers) (0.23.2)\n",
            "Requirement already satisfied: numpy>=1.17 in /usr/local/lib/python3.10/dist-packages (from transformers) (1.25.2)\n",
            "Requirement already satisfied: packaging>=20.0 in /usr/local/lib/python3.10/dist-packages (from transformers) (24.0)\n",
            "Requirement already satisfied: pyyaml>=5.1 in /usr/local/lib/python3.10/dist-packages (from transformers) (6.0.1)\n",
            "Requirement already satisfied: regex!=2019.12.17 in /usr/local/lib/python3.10/dist-packages (from transformers) (2024.5.15)\n",
            "Requirement already satisfied: requests in /usr/local/lib/python3.10/dist-packages (from transformers) (2.32.3)\n",
            "Requirement already satisfied: tokenizers<0.20,>=0.19 in /usr/local/lib/python3.10/dist-packages (from transformers) (0.19.1)\n",
            "Requirement already satisfied: safetensors>=0.4.1 in /usr/local/lib/python3.10/dist-packages (from transformers) (0.4.3)\n",
            "Requirement already satisfied: tqdm>=4.27 in /usr/local/lib/python3.10/dist-packages (from transformers) (4.66.4)\n",
            "Requirement already satisfied: absl-py>=1.0.0 in /usr/local/lib/python3.10/dist-packages (from tensorflow) (1.4.0)\n",
            "Requirement already satisfied: astunparse>=1.6.0 in /usr/local/lib/python3.10/dist-packages (from tensorflow) (1.6.3)\n",
            "Requirement already satisfied: flatbuffers>=23.5.26 in /usr/local/lib/python3.10/dist-packages (from tensorflow) (24.3.25)\n",
            "Requirement already satisfied: gast!=0.5.0,!=0.5.1,!=0.5.2,>=0.2.1 in /usr/local/lib/python3.10/dist-packages (from tensorflow) (0.5.4)\n",
            "Requirement already satisfied: google-pasta>=0.1.1 in /usr/local/lib/python3.10/dist-packages (from tensorflow) (0.2.0)\n",
            "Requirement already satisfied: h5py>=2.9.0 in /usr/local/lib/python3.10/dist-packages (from tensorflow) (3.9.0)\n",
            "Requirement already satisfied: libclang>=13.0.0 in /usr/local/lib/python3.10/dist-packages (from tensorflow) (18.1.1)\n",
            "Requirement already satisfied: ml-dtypes~=0.2.0 in /usr/local/lib/python3.10/dist-packages (from tensorflow) (0.2.0)\n",
            "Requirement already satisfied: opt-einsum>=2.3.2 in /usr/local/lib/python3.10/dist-packages (from tensorflow) (3.3.0)\n",
            "Requirement already satisfied: protobuf!=4.21.0,!=4.21.1,!=4.21.2,!=4.21.3,!=4.21.4,!=4.21.5,<5.0.0dev,>=3.20.3 in /usr/local/lib/python3.10/dist-packages (from tensorflow) (3.20.3)\n",
            "Requirement already satisfied: setuptools in /usr/local/lib/python3.10/dist-packages (from tensorflow) (67.7.2)\n",
            "Requirement already satisfied: six>=1.12.0 in /usr/local/lib/python3.10/dist-packages (from tensorflow) (1.16.0)\n",
            "Requirement already satisfied: termcolor>=1.1.0 in /usr/local/lib/python3.10/dist-packages (from tensorflow) (2.4.0)\n",
            "Requirement already satisfied: typing-extensions>=3.6.6 in /usr/local/lib/python3.10/dist-packages (from tensorflow) (4.12.1)\n",
            "Requirement already satisfied: wrapt<1.15,>=1.11.0 in /usr/local/lib/python3.10/dist-packages (from tensorflow) (1.14.1)\n",
            "Requirement already satisfied: tensorflow-io-gcs-filesystem>=0.23.1 in /usr/local/lib/python3.10/dist-packages (from tensorflow) (0.37.0)\n",
            "Requirement already satisfied: grpcio<2.0,>=1.24.3 in /usr/local/lib/python3.10/dist-packages (from tensorflow) (1.64.1)\n",
            "Requirement already satisfied: tensorboard<2.16,>=2.15 in /usr/local/lib/python3.10/dist-packages (from tensorflow) (2.15.2)\n",
            "Requirement already satisfied: tensorflow-estimator<2.16,>=2.15.0 in /usr/local/lib/python3.10/dist-packages (from tensorflow) (2.15.0)\n",
            "Requirement already satisfied: keras<2.16,>=2.15.0 in /usr/local/lib/python3.10/dist-packages (from tensorflow) (2.15.0)\n",
            "Requirement already satisfied: contourpy>=1.0.1 in /usr/local/lib/python3.10/dist-packages (from matplotlib) (1.2.1)\n",
            "Requirement already satisfied: cycler>=0.10 in /usr/local/lib/python3.10/dist-packages (from matplotlib) (0.12.1)\n",
            "Requirement already satisfied: fonttools>=4.22.0 in /usr/local/lib/python3.10/dist-packages (from matplotlib) (4.53.0)\n",
            "Requirement already satisfied: kiwisolver>=1.0.1 in /usr/local/lib/python3.10/dist-packages (from matplotlib) (1.4.5)\n",
            "Requirement already satisfied: pillow>=6.2.0 in /usr/local/lib/python3.10/dist-packages (from matplotlib) (9.4.0)\n",
            "Requirement already satisfied: pyparsing>=2.3.1 in /usr/local/lib/python3.10/dist-packages (from matplotlib) (3.1.2)\n",
            "Requirement already satisfied: python-dateutil>=2.7 in /usr/local/lib/python3.10/dist-packages (from matplotlib) (2.8.2)\n",
            "Requirement already satisfied: wheel<1.0,>=0.23.0 in /usr/local/lib/python3.10/dist-packages (from astunparse>=1.6.0->tensorflow) (0.43.0)\n",
            "Requirement already satisfied: fsspec>=2023.5.0 in /usr/local/lib/python3.10/dist-packages (from huggingface-hub<1.0,>=0.23.0->transformers) (2023.6.0)\n",
            "Requirement already satisfied: google-auth<3,>=1.6.3 in /usr/local/lib/python3.10/dist-packages (from tensorboard<2.16,>=2.15->tensorflow) (2.27.0)\n",
            "Requirement already satisfied: google-auth-oauthlib<2,>=0.5 in /usr/local/lib/python3.10/dist-packages (from tensorboard<2.16,>=2.15->tensorflow) (1.2.0)\n",
            "Requirement already satisfied: markdown>=2.6.8 in /usr/local/lib/python3.10/dist-packages (from tensorboard<2.16,>=2.15->tensorflow) (3.6)\n",
            "Requirement already satisfied: tensorboard-data-server<0.8.0,>=0.7.0 in /usr/local/lib/python3.10/dist-packages (from tensorboard<2.16,>=2.15->tensorflow) (0.7.2)\n",
            "Requirement already satisfied: werkzeug>=1.0.1 in /usr/local/lib/python3.10/dist-packages (from tensorboard<2.16,>=2.15->tensorflow) (3.0.3)\n",
            "Requirement already satisfied: charset-normalizer<4,>=2 in /usr/local/lib/python3.10/dist-packages (from requests->transformers) (3.3.2)\n",
            "Requirement already satisfied: idna<4,>=2.5 in /usr/local/lib/python3.10/dist-packages (from requests->transformers) (3.7)\n",
            "Requirement already satisfied: urllib3<3,>=1.21.1 in /usr/local/lib/python3.10/dist-packages (from requests->transformers) (2.0.7)\n",
            "Requirement already satisfied: certifi>=2017.4.17 in /usr/local/lib/python3.10/dist-packages (from requests->transformers) (2024.6.2)\n",
            "Requirement already satisfied: cachetools<6.0,>=2.0.0 in /usr/local/lib/python3.10/dist-packages (from google-auth<3,>=1.6.3->tensorboard<2.16,>=2.15->tensorflow) (5.3.3)\n",
            "Requirement already satisfied: pyasn1-modules>=0.2.1 in /usr/local/lib/python3.10/dist-packages (from google-auth<3,>=1.6.3->tensorboard<2.16,>=2.15->tensorflow) (0.4.0)\n",
            "Requirement already satisfied: rsa<5,>=3.1.4 in /usr/local/lib/python3.10/dist-packages (from google-auth<3,>=1.6.3->tensorboard<2.16,>=2.15->tensorflow) (4.9)\n",
            "Requirement already satisfied: requests-oauthlib>=0.7.0 in /usr/local/lib/python3.10/dist-packages (from google-auth-oauthlib<2,>=0.5->tensorboard<2.16,>=2.15->tensorflow) (1.3.1)\n",
            "Requirement already satisfied: MarkupSafe>=2.1.1 in /usr/local/lib/python3.10/dist-packages (from werkzeug>=1.0.1->tensorboard<2.16,>=2.15->tensorflow) (2.1.5)\n",
            "Requirement already satisfied: pyasn1<0.7.0,>=0.4.6 in /usr/local/lib/python3.10/dist-packages (from pyasn1-modules>=0.2.1->google-auth<3,>=1.6.3->tensorboard<2.16,>=2.15->tensorflow) (0.6.0)\n",
            "Requirement already satisfied: oauthlib>=3.0.0 in /usr/local/lib/python3.10/dist-packages (from requests-oauthlib>=0.7.0->google-auth-oauthlib<2,>=0.5->tensorboard<2.16,>=2.15->tensorflow) (3.2.2)\n"
          ]
        }
      ]
    },
    {
      "cell_type": "code",
      "source": [
        "\n",
        "\n",
        "# Encode labels\n",
        "label_encoder_review = LabelEncoder()\n",
        "label_encoder_sentiment = LabelEncoder()\n",
        "df['label_encoded'] = label_encoder_review.fit_transform(df['label'])\n",
        "df['sentiment_encoded'] = label_encoder_sentiment.fit_transform(df['sentimen'])\n",
        "\n",
        "# Load pretrained tokenizer\n",
        "pretrained_name = \"w11wo/indonesian-roberta-base-sentiment-classifier\"\n",
        "tokenizer = AutoTokenizer.from_pretrained(pretrained_name)\n",
        "\n",
        "# Tokenization and Padding\n",
        "max_length = 128  # Choose an appropriate max length\n",
        "tokenized_data = tokenizer(df['stem_reviews'].tolist(), padding='max_length', truncation=True, max_length=max_length, return_tensors=\"tf\")\n",
        "\n",
        "input_ids = tokenized_data['input_ids']\n",
        "attention_masks = tokenized_data['attention_mask']\n",
        "labels_review = tf.convert_to_tensor(df['label_encoded'].values, dtype=tf.int32)\n",
        "labels_sentiment = tf.convert_to_tensor(df['sentiment_encoded'].values, dtype=tf.int32)\n",
        "\n",
        "# Create TensorFlow dataset\n",
        "dataset = tf.data.Dataset.from_tensor_slices(({'input_ids': input_ids, 'attention_mask': attention_masks},\n",
        "                                              {'output_1': labels_review, 'output_2': labels_sentiment}))\n",
        "\n",
        "train_size = int(0.8 * len(dataset))\n",
        "val_size = len(dataset) - train_size\n",
        "\n",
        "train_dataset = dataset.take(train_size).batch(16)\n",
        "val_dataset = dataset.skip(train_size).take(val_size).batch(16)\n"
      ],
      "metadata": {
        "id": "fK8b_tUySwXz"
      },
      "execution_count": null,
      "outputs": []
    },
    {
      "cell_type": "code",
      "source": [
        "# class MultiTaskModel(torch.nn.Module):\n",
        "#     def __init__(self, pretrained_name):\n",
        "#         super(MultiTaskModel, self).__init__()\n",
        "#         self.bert = RobertaModel.from_pretrained(pretrained_name)\n",
        "#         self.classifier_review = torch.nn.Linear(self.bert.config.hidden_size, 3)  # 3 classes for review\n",
        "#         self.classifier_sentiment = torch.nn.Linear(self.bert.config.hidden_size, 3)  # 3 classes for sentiment\n",
        "\n",
        "#     def forward(self, input_ids, attention_mask):\n",
        "#         outputs = self.bert(input_ids, attention_mask=attention_mask)\n",
        "#         pooled_output = outputs[1]\n",
        "#         logits_review = self.classifier_review(pooled_output)\n",
        "#         logits_sentiment = self.classifier_sentiment(pooled_output)\n",
        "#         return logits_review, logits_sentiment\n",
        "\n",
        "# model = MultiTaskModel(pretrained_name)\n"
      ],
      "metadata": {
        "id": "4nRlDmfASzSo",
        "outputId": "af3c1ea0-d2de-46b9-b984-78edfeb4c188",
        "colab": {
          "base_uri": "https://localhost:8080/"
        }
      },
      "execution_count": null,
      "outputs": [
        {
          "output_type": "stream",
          "name": "stderr",
          "text": [
            "Some weights of RobertaModel were not initialized from the model checkpoint at w11wo/indonesian-roberta-base-sentiment-classifier and are newly initialized: ['roberta.pooler.dense.bias', 'roberta.pooler.dense.weight']\n",
            "You should probably TRAIN this model on a down-stream task to be able to use it for predictions and inference.\n"
          ]
        }
      ]
    },
    {
      "cell_type": "code",
      "source": [
        "class TFRobertaMultiTask(tf.keras.Model):\n",
        "    def __init__(self, pretrained_name):\n",
        "        super(TFRobertaMultiTask, self).__init__()\n",
        "        self.bert = TFBertModel.from_pretrained(pretrained_name)\n",
        "        self.classifier_review = tf.keras.layers.Dense(3, activation='softmax')  # 3 classes for review\n",
        "        self.classifier_sentiment = tf.keras.layers.Dense(3, activation='softmax')  # 3 classes for sentiment\n",
        "\n",
        "    def call(self, inputs):\n",
        "        outputs = self.bert(inputs['input_ids'], attention_mask=inputs['attention_mask'])[0]\n",
        "        logits_review = self.classifier_review(outputs[:, 0, :])  # Take [CLS] token\n",
        "        logits_sentiment = self.classifier_sentiment(outputs[:, 0, :])  # Take [CLS] token\n",
        "        return {'output_1': logits_review, 'output_2': logits_sentiment}\n",
        "\n",
        "model = TFRobertaMultiTask(pretrained_name)\n",
        "\n",
        "# Compile the model\n",
        "losses = {\n",
        "    \"output_1\": tf.keras.losses.SparseCategoricalCrossentropy(from_logits=True),\n",
        "    \"output_2\": tf.keras.losses.SparseCategoricalCrossentropy(from_logits=True)\n",
        "}\n",
        "metrics = {\n",
        "    \"output_1\": tf.keras.metrics.SparseCategoricalAccuracy(),\n",
        "    \"output_2\": tf.keras.metrics.SparseCategoricalAccuracy()\n",
        "}\n",
        "model.compile(optimizer=tf.keras.optimizers.Adam(learning_rate=5e-5), loss=losses, metrics=metrics)\n"
      ],
      "metadata": {
        "id": "uDKhi5UfXDRC",
        "outputId": "23cd9428-ddac-4352-a190-cbe908014719",
        "colab": {
          "base_uri": "https://localhost:8080/"
        }
      },
      "execution_count": null,
      "outputs": [
        {
          "output_type": "stream",
          "name": "stderr",
          "text": [
            "You are using a model of type roberta to instantiate a model of type bert. This is not supported for all configurations of models and can yield errors.\n",
            "Some weights of the PyTorch model were not used when initializing the TF 2.0 model TFBertModel: ['roberta.encoder.layer.9.output.LayerNorm.weight', 'roberta.encoder.layer.11.attention.self.query.weight', 'roberta.encoder.layer.6.intermediate.dense.weight', 'roberta.encoder.layer.4.attention.output.LayerNorm.bias', 'roberta.encoder.layer.11.attention.output.LayerNorm.bias', 'roberta.encoder.layer.7.output.LayerNorm.bias', 'roberta.encoder.layer.1.attention.self.value.bias', 'roberta.encoder.layer.11.attention.self.query.bias', 'roberta.embeddings.token_type_embeddings.weight', 'roberta.encoder.layer.4.attention.self.value.bias', 'roberta.encoder.layer.5.attention.self.key.weight', 'roberta.encoder.layer.5.attention.output.dense.bias', 'roberta.encoder.layer.0.attention.output.LayerNorm.weight', 'roberta.encoder.layer.4.attention.output.dense.weight', 'roberta.encoder.layer.11.attention.self.key.bias', 'roberta.encoder.layer.11.attention.output.dense.bias', 'roberta.encoder.layer.2.attention.output.LayerNorm.bias', 'roberta.encoder.layer.0.attention.self.query.weight', 'classifier.out_proj.weight', 'roberta.encoder.layer.10.output.LayerNorm.weight', 'roberta.encoder.layer.8.attention.self.value.weight', 'roberta.encoder.layer.9.attention.output.dense.bias', 'roberta.encoder.layer.3.output.LayerNorm.bias', 'roberta.encoder.layer.4.intermediate.dense.weight', 'classifier.out_proj.bias', 'roberta.encoder.layer.10.attention.output.dense.weight', 'roberta.encoder.layer.7.intermediate.dense.bias', 'roberta.encoder.layer.2.attention.output.dense.weight', 'roberta.encoder.layer.3.attention.self.value.bias', 'roberta.encoder.layer.5.attention.self.value.bias', 'roberta.encoder.layer.8.attention.self.key.weight', 'roberta.encoder.layer.7.attention.self.key.weight', 'roberta.encoder.layer.10.attention.output.dense.bias', 'roberta.encoder.layer.0.attention.self.key.weight', 'roberta.encoder.layer.3.attention.self.query.bias', 'roberta.encoder.layer.6.attention.self.query.bias', 'roberta.encoder.layer.10.attention.self.value.bias', 'roberta.encoder.layer.2.intermediate.dense.bias', 'roberta.encoder.layer.4.attention.output.dense.bias', 'roberta.embeddings.LayerNorm.bias', 'roberta.encoder.layer.0.attention.self.value.bias', 'roberta.encoder.layer.9.attention.self.query.bias', 'roberta.encoder.layer.3.attention.self.query.weight', 'roberta.encoder.layer.1.attention.output.dense.bias', 'roberta.encoder.layer.10.output.dense.weight', 'roberta.encoder.layer.3.attention.output.LayerNorm.bias', 'roberta.encoder.layer.0.attention.self.value.weight', 'roberta.encoder.layer.5.attention.self.value.weight', 'roberta.encoder.layer.6.output.LayerNorm.bias', 'roberta.encoder.layer.7.attention.self.query.bias', 'roberta.encoder.layer.8.intermediate.dense.bias', 'roberta.encoder.layer.9.attention.self.key.weight', 'roberta.encoder.layer.9.attention.self.query.weight', 'roberta.encoder.layer.1.attention.self.key.bias', 'roberta.encoder.layer.2.attention.self.query.bias', 'roberta.encoder.layer.7.attention.self.value.bias', 'roberta.encoder.layer.7.output.dense.bias', 'roberta.encoder.layer.11.attention.self.value.weight', 'roberta.encoder.layer.8.attention.self.key.bias', 'roberta.encoder.layer.10.output.dense.bias', 'roberta.encoder.layer.4.attention.self.query.weight', 'roberta.encoder.layer.5.attention.self.query.bias', 'roberta.encoder.layer.8.attention.self.query.weight', 'roberta.encoder.layer.8.intermediate.dense.weight', 'roberta.encoder.layer.11.intermediate.dense.bias', 'roberta.encoder.layer.6.attention.self.value.bias', 'roberta.encoder.layer.10.attention.output.LayerNorm.weight', 'roberta.encoder.layer.5.output.LayerNorm.weight', 'roberta.encoder.layer.0.attention.output.LayerNorm.bias', 'roberta.encoder.layer.10.attention.self.query.weight', 'roberta.encoder.layer.0.intermediate.dense.bias', 'roberta.encoder.layer.1.attention.self.value.weight', 'roberta.encoder.layer.4.attention.self.query.bias', 'roberta.encoder.layer.7.attention.self.query.weight', 'roberta.encoder.layer.10.intermediate.dense.bias', 'roberta.encoder.layer.2.intermediate.dense.weight', 'roberta.encoder.layer.1.output.dense.weight', 'roberta.encoder.layer.8.output.dense.weight', 'roberta.encoder.layer.2.attention.self.value.weight', 'roberta.encoder.layer.4.output.dense.bias', 'roberta.encoder.layer.9.attention.self.value.weight', 'roberta.encoder.layer.8.attention.output.LayerNorm.weight', 'roberta.encoder.layer.0.attention.output.dense.bias', 'roberta.embeddings.position_embeddings.weight', 'roberta.encoder.layer.8.attention.self.value.bias', 'roberta.encoder.layer.6.attention.output.dense.bias', 'roberta.encoder.layer.4.attention.self.key.bias', 'roberta.encoder.layer.7.output.LayerNorm.weight', 'roberta.encoder.layer.10.attention.self.value.weight', 'roberta.encoder.layer.9.intermediate.dense.weight', 'roberta.encoder.layer.2.attention.self.key.bias', 'roberta.encoder.layer.6.attention.output.LayerNorm.weight', 'roberta.encoder.layer.2.attention.self.query.weight', 'roberta.encoder.layer.9.attention.self.key.bias', 'roberta.encoder.layer.10.intermediate.dense.weight', 'roberta.encoder.layer.11.output.dense.bias', 'roberta.encoder.layer.11.attention.self.key.weight', 'roberta.encoder.layer.1.intermediate.dense.bias', 'roberta.encoder.layer.1.output.LayerNorm.bias', 'roberta.encoder.layer.2.attention.output.LayerNorm.weight', 'roberta.encoder.layer.7.attention.self.value.weight', 'roberta.encoder.layer.9.attention.self.value.bias', 'roberta.encoder.layer.8.output.dense.bias', 'roberta.encoder.layer.9.attention.output.LayerNorm.weight', 'roberta.encoder.layer.3.attention.output.dense.bias', 'roberta.encoder.layer.0.attention.self.query.bias', 'roberta.encoder.layer.5.attention.self.key.bias', 'roberta.encoder.layer.11.attention.output.LayerNorm.weight', 'roberta.encoder.layer.6.intermediate.dense.bias', 'roberta.encoder.layer.5.attention.output.LayerNorm.bias', 'roberta.encoder.layer.7.attention.output.LayerNorm.weight', 'roberta.encoder.layer.11.attention.self.value.bias', 'roberta.encoder.layer.7.output.dense.weight', 'roberta.encoder.layer.6.output.dense.bias', 'roberta.encoder.layer.7.attention.self.key.bias', 'roberta.embeddings.LayerNorm.weight', 'roberta.encoder.layer.1.attention.output.LayerNorm.bias', 'roberta.encoder.layer.4.output.LayerNorm.bias', 'roberta.encoder.layer.1.attention.output.dense.weight', 'roberta.encoder.layer.5.intermediate.dense.bias', 'roberta.encoder.layer.5.attention.output.dense.weight', 'roberta.embeddings.position_ids', 'roberta.encoder.layer.5.output.dense.weight', 'roberta.encoder.layer.1.output.LayerNorm.weight', 'roberta.encoder.layer.5.output.LayerNorm.bias', 'roberta.encoder.layer.2.output.LayerNorm.bias', 'roberta.encoder.layer.2.attention.output.dense.bias', 'roberta.encoder.layer.10.attention.output.LayerNorm.bias', 'roberta.encoder.layer.5.intermediate.dense.weight', 'roberta.encoder.layer.9.output.LayerNorm.bias', 'roberta.encoder.layer.6.attention.self.query.weight', 'roberta.encoder.layer.8.attention.self.query.bias', 'roberta.encoder.layer.6.output.dense.weight', 'roberta.encoder.layer.1.attention.self.query.weight', 'roberta.encoder.layer.4.output.LayerNorm.weight', 'roberta.encoder.layer.8.output.LayerNorm.bias', 'roberta.encoder.layer.1.output.dense.bias', 'roberta.encoder.layer.8.attention.output.dense.weight', 'roberta.encoder.layer.2.attention.self.value.bias', 'roberta.encoder.layer.10.attention.self.key.weight', 'roberta.encoder.layer.7.attention.output.dense.weight', 'roberta.encoder.layer.7.intermediate.dense.weight', 'roberta.encoder.layer.6.attention.output.dense.weight', 'roberta.encoder.layer.10.attention.self.query.bias', 'roberta.encoder.layer.0.attention.self.key.bias', 'roberta.encoder.layer.3.attention.self.key.weight', 'roberta.encoder.layer.9.attention.output.LayerNorm.bias', 'roberta.encoder.layer.8.attention.output.LayerNorm.bias', 'roberta.encoder.layer.3.output.dense.bias', 'roberta.encoder.layer.3.output.dense.weight', 'roberta.encoder.layer.5.output.dense.bias', 'roberta.encoder.layer.8.attention.output.dense.bias', 'roberta.encoder.layer.0.output.dense.weight', 'roberta.encoder.layer.4.attention.output.LayerNorm.weight', 'roberta.encoder.layer.10.attention.self.key.bias', 'roberta.encoder.layer.6.attention.self.key.bias', 'roberta.encoder.layer.0.intermediate.dense.weight', 'roberta.encoder.layer.0.output.LayerNorm.weight', 'roberta.encoder.layer.4.attention.self.value.weight', 'roberta.encoder.layer.11.output.LayerNorm.bias', 'roberta.encoder.layer.11.output.LayerNorm.weight', 'roberta.encoder.layer.3.intermediate.dense.weight', 'roberta.encoder.layer.6.output.LayerNorm.weight', 'roberta.encoder.layer.9.intermediate.dense.bias', 'roberta.encoder.layer.11.output.dense.weight', 'roberta.encoder.layer.1.attention.output.LayerNorm.weight', 'roberta.encoder.layer.10.output.LayerNorm.bias', 'roberta.encoder.layer.3.attention.self.key.bias', 'roberta.encoder.layer.1.attention.self.query.bias', 'roberta.encoder.layer.4.intermediate.dense.bias', 'roberta.encoder.layer.9.output.dense.bias', 'roberta.encoder.layer.6.attention.self.value.weight', 'roberta.encoder.layer.2.attention.self.key.weight', 'classifier.dense.weight', 'roberta.encoder.layer.2.output.dense.bias', 'roberta.encoder.layer.4.attention.self.key.weight', 'roberta.encoder.layer.7.attention.output.LayerNorm.bias', 'roberta.encoder.layer.3.intermediate.dense.bias', 'roberta.encoder.layer.11.intermediate.dense.weight', 'roberta.encoder.layer.2.output.LayerNorm.weight', 'roberta.encoder.layer.1.intermediate.dense.weight', 'roberta.encoder.layer.3.attention.output.LayerNorm.weight', 'roberta.encoder.layer.4.output.dense.weight', 'roberta.encoder.layer.7.attention.output.dense.bias', 'roberta.encoder.layer.3.output.LayerNorm.weight', 'roberta.encoder.layer.0.attention.output.dense.weight', 'roberta.encoder.layer.9.output.dense.weight', 'roberta.encoder.layer.3.attention.output.dense.weight', 'roberta.encoder.layer.1.attention.self.key.weight', 'roberta.encoder.layer.9.attention.output.dense.weight', 'roberta.encoder.layer.11.attention.output.dense.weight', 'roberta.encoder.layer.0.output.LayerNorm.bias', 'roberta.encoder.layer.2.output.dense.weight', 'roberta.encoder.layer.6.attention.self.key.weight', 'roberta.embeddings.word_embeddings.weight', 'roberta.encoder.layer.5.attention.output.LayerNorm.weight', 'roberta.encoder.layer.5.attention.self.query.weight', 'roberta.encoder.layer.6.attention.output.LayerNorm.bias', 'roberta.encoder.layer.0.output.dense.bias', 'classifier.dense.bias', 'roberta.encoder.layer.8.output.LayerNorm.weight', 'roberta.encoder.layer.3.attention.self.value.weight']\n",
            "- This IS expected if you are initializing TFBertModel from a PyTorch model trained on another task or with another architecture (e.g. initializing a TFBertForSequenceClassification model from a BertForPreTraining model).\n",
            "- This IS NOT expected if you are initializing TFBertModel from a PyTorch model that you expect to be exactly identical (e.g. initializing a TFBertForSequenceClassification model from a BertForSequenceClassification model).\n",
            "Some weights or buffers of the TF 2.0 model TFBertModel were not initialized from the PyTorch model and are newly initialized: ['embeddings.word_embeddings.weight', 'embeddings.token_type_embeddings.weight', 'embeddings.position_embeddings.weight', 'embeddings.LayerNorm.weight', 'embeddings.LayerNorm.bias', 'encoder.layer.0.attention.self.query.weight', 'encoder.layer.0.attention.self.query.bias', 'encoder.layer.0.attention.self.key.weight', 'encoder.layer.0.attention.self.key.bias', 'encoder.layer.0.attention.self.value.weight', 'encoder.layer.0.attention.self.value.bias', 'encoder.layer.0.attention.output.dense.weight', 'encoder.layer.0.attention.output.dense.bias', 'encoder.layer.0.attention.output.LayerNorm.weight', 'encoder.layer.0.attention.output.LayerNorm.bias', 'encoder.layer.0.intermediate.dense.weight', 'encoder.layer.0.intermediate.dense.bias', 'encoder.layer.0.output.dense.weight', 'encoder.layer.0.output.dense.bias', 'encoder.layer.0.output.LayerNorm.weight', 'encoder.layer.0.output.LayerNorm.bias', 'encoder.layer.1.attention.self.query.weight', 'encoder.layer.1.attention.self.query.bias', 'encoder.layer.1.attention.self.key.weight', 'encoder.layer.1.attention.self.key.bias', 'encoder.layer.1.attention.self.value.weight', 'encoder.layer.1.attention.self.value.bias', 'encoder.layer.1.attention.output.dense.weight', 'encoder.layer.1.attention.output.dense.bias', 'encoder.layer.1.attention.output.LayerNorm.weight', 'encoder.layer.1.attention.output.LayerNorm.bias', 'encoder.layer.1.intermediate.dense.weight', 'encoder.layer.1.intermediate.dense.bias', 'encoder.layer.1.output.dense.weight', 'encoder.layer.1.output.dense.bias', 'encoder.layer.1.output.LayerNorm.weight', 'encoder.layer.1.output.LayerNorm.bias', 'encoder.layer.2.attention.self.query.weight', 'encoder.layer.2.attention.self.query.bias', 'encoder.layer.2.attention.self.key.weight', 'encoder.layer.2.attention.self.key.bias', 'encoder.layer.2.attention.self.value.weight', 'encoder.layer.2.attention.self.value.bias', 'encoder.layer.2.attention.output.dense.weight', 'encoder.layer.2.attention.output.dense.bias', 'encoder.layer.2.attention.output.LayerNorm.weight', 'encoder.layer.2.attention.output.LayerNorm.bias', 'encoder.layer.2.intermediate.dense.weight', 'encoder.layer.2.intermediate.dense.bias', 'encoder.layer.2.output.dense.weight', 'encoder.layer.2.output.dense.bias', 'encoder.layer.2.output.LayerNorm.weight', 'encoder.layer.2.output.LayerNorm.bias', 'encoder.layer.3.attention.self.query.weight', 'encoder.layer.3.attention.self.query.bias', 'encoder.layer.3.attention.self.key.weight', 'encoder.layer.3.attention.self.key.bias', 'encoder.layer.3.attention.self.value.weight', 'encoder.layer.3.attention.self.value.bias', 'encoder.layer.3.attention.output.dense.weight', 'encoder.layer.3.attention.output.dense.bias', 'encoder.layer.3.attention.output.LayerNorm.weight', 'encoder.layer.3.attention.output.LayerNorm.bias', 'encoder.layer.3.intermediate.dense.weight', 'encoder.layer.3.intermediate.dense.bias', 'encoder.layer.3.output.dense.weight', 'encoder.layer.3.output.dense.bias', 'encoder.layer.3.output.LayerNorm.weight', 'encoder.layer.3.output.LayerNorm.bias', 'encoder.layer.4.attention.self.query.weight', 'encoder.layer.4.attention.self.query.bias', 'encoder.layer.4.attention.self.key.weight', 'encoder.layer.4.attention.self.key.bias', 'encoder.layer.4.attention.self.value.weight', 'encoder.layer.4.attention.self.value.bias', 'encoder.layer.4.attention.output.dense.weight', 'encoder.layer.4.attention.output.dense.bias', 'encoder.layer.4.attention.output.LayerNorm.weight', 'encoder.layer.4.attention.output.LayerNorm.bias', 'encoder.layer.4.intermediate.dense.weight', 'encoder.layer.4.intermediate.dense.bias', 'encoder.layer.4.output.dense.weight', 'encoder.layer.4.output.dense.bias', 'encoder.layer.4.output.LayerNorm.weight', 'encoder.layer.4.output.LayerNorm.bias', 'encoder.layer.5.attention.self.query.weight', 'encoder.layer.5.attention.self.query.bias', 'encoder.layer.5.attention.self.key.weight', 'encoder.layer.5.attention.self.key.bias', 'encoder.layer.5.attention.self.value.weight', 'encoder.layer.5.attention.self.value.bias', 'encoder.layer.5.attention.output.dense.weight', 'encoder.layer.5.attention.output.dense.bias', 'encoder.layer.5.attention.output.LayerNorm.weight', 'encoder.layer.5.attention.output.LayerNorm.bias', 'encoder.layer.5.intermediate.dense.weight', 'encoder.layer.5.intermediate.dense.bias', 'encoder.layer.5.output.dense.weight', 'encoder.layer.5.output.dense.bias', 'encoder.layer.5.output.LayerNorm.weight', 'encoder.layer.5.output.LayerNorm.bias', 'encoder.layer.6.attention.self.query.weight', 'encoder.layer.6.attention.self.query.bias', 'encoder.layer.6.attention.self.key.weight', 'encoder.layer.6.attention.self.key.bias', 'encoder.layer.6.attention.self.value.weight', 'encoder.layer.6.attention.self.value.bias', 'encoder.layer.6.attention.output.dense.weight', 'encoder.layer.6.attention.output.dense.bias', 'encoder.layer.6.attention.output.LayerNorm.weight', 'encoder.layer.6.attention.output.LayerNorm.bias', 'encoder.layer.6.intermediate.dense.weight', 'encoder.layer.6.intermediate.dense.bias', 'encoder.layer.6.output.dense.weight', 'encoder.layer.6.output.dense.bias', 'encoder.layer.6.output.LayerNorm.weight', 'encoder.layer.6.output.LayerNorm.bias', 'encoder.layer.7.attention.self.query.weight', 'encoder.layer.7.attention.self.query.bias', 'encoder.layer.7.attention.self.key.weight', 'encoder.layer.7.attention.self.key.bias', 'encoder.layer.7.attention.self.value.weight', 'encoder.layer.7.attention.self.value.bias', 'encoder.layer.7.attention.output.dense.weight', 'encoder.layer.7.attention.output.dense.bias', 'encoder.layer.7.attention.output.LayerNorm.weight', 'encoder.layer.7.attention.output.LayerNorm.bias', 'encoder.layer.7.intermediate.dense.weight', 'encoder.layer.7.intermediate.dense.bias', 'encoder.layer.7.output.dense.weight', 'encoder.layer.7.output.dense.bias', 'encoder.layer.7.output.LayerNorm.weight', 'encoder.layer.7.output.LayerNorm.bias', 'encoder.layer.8.attention.self.query.weight', 'encoder.layer.8.attention.self.query.bias', 'encoder.layer.8.attention.self.key.weight', 'encoder.layer.8.attention.self.key.bias', 'encoder.layer.8.attention.self.value.weight', 'encoder.layer.8.attention.self.value.bias', 'encoder.layer.8.attention.output.dense.weight', 'encoder.layer.8.attention.output.dense.bias', 'encoder.layer.8.attention.output.LayerNorm.weight', 'encoder.layer.8.attention.output.LayerNorm.bias', 'encoder.layer.8.intermediate.dense.weight', 'encoder.layer.8.intermediate.dense.bias', 'encoder.layer.8.output.dense.weight', 'encoder.layer.8.output.dense.bias', 'encoder.layer.8.output.LayerNorm.weight', 'encoder.layer.8.output.LayerNorm.bias', 'encoder.layer.9.attention.self.query.weight', 'encoder.layer.9.attention.self.query.bias', 'encoder.layer.9.attention.self.key.weight', 'encoder.layer.9.attention.self.key.bias', 'encoder.layer.9.attention.self.value.weight', 'encoder.layer.9.attention.self.value.bias', 'encoder.layer.9.attention.output.dense.weight', 'encoder.layer.9.attention.output.dense.bias', 'encoder.layer.9.attention.output.LayerNorm.weight', 'encoder.layer.9.attention.output.LayerNorm.bias', 'encoder.layer.9.intermediate.dense.weight', 'encoder.layer.9.intermediate.dense.bias', 'encoder.layer.9.output.dense.weight', 'encoder.layer.9.output.dense.bias', 'encoder.layer.9.output.LayerNorm.weight', 'encoder.layer.9.output.LayerNorm.bias', 'encoder.layer.10.attention.self.query.weight', 'encoder.layer.10.attention.self.query.bias', 'encoder.layer.10.attention.self.key.weight', 'encoder.layer.10.attention.self.key.bias', 'encoder.layer.10.attention.self.value.weight', 'encoder.layer.10.attention.self.value.bias', 'encoder.layer.10.attention.output.dense.weight', 'encoder.layer.10.attention.output.dense.bias', 'encoder.layer.10.attention.output.LayerNorm.weight', 'encoder.layer.10.attention.output.LayerNorm.bias', 'encoder.layer.10.intermediate.dense.weight', 'encoder.layer.10.intermediate.dense.bias', 'encoder.layer.10.output.dense.weight', 'encoder.layer.10.output.dense.bias', 'encoder.layer.10.output.LayerNorm.weight', 'encoder.layer.10.output.LayerNorm.bias', 'encoder.layer.11.attention.self.query.weight', 'encoder.layer.11.attention.self.query.bias', 'encoder.layer.11.attention.self.key.weight', 'encoder.layer.11.attention.self.key.bias', 'encoder.layer.11.attention.self.value.weight', 'encoder.layer.11.attention.self.value.bias', 'encoder.layer.11.attention.output.dense.weight', 'encoder.layer.11.attention.output.dense.bias', 'encoder.layer.11.attention.output.LayerNorm.weight', 'encoder.layer.11.attention.output.LayerNorm.bias', 'encoder.layer.11.intermediate.dense.weight', 'encoder.layer.11.intermediate.dense.bias', 'encoder.layer.11.output.dense.weight', 'encoder.layer.11.output.dense.bias', 'encoder.layer.11.output.LayerNorm.weight', 'encoder.layer.11.output.LayerNorm.bias', 'pooler.dense.weight', 'pooler.dense.bias']\n",
            "You should probably TRAIN this model on a down-stream task to be able to use it for predictions and inference.\n"
          ]
        }
      ]
    },
    {
      "cell_type": "code",
      "source": [
        "# Define callbacks\n",
        "early_stopping = tf.keras.callbacks.EarlyStopping(monitor='val_loss', patience=3, restore_best_weights=True)\n",
        "model_checkpoint = tf.keras.callbacks.ModelCheckpoint('best_model_weights.h5', monitor='val_loss', save_best_only=True, save_weights_only=True)\n",
        "\n",
        "# Train the model\n",
        "history = model.fit(\n",
        "    train_dataset,\n",
        "    epochs=10,\n",
        "    batch_size=32,\n",
        "    validation_data=val_dataset,\n",
        "    callbacks=[early_stopping, model_checkpoint]\n",
        ")"
      ],
      "metadata": {
        "id": "Mpgi1U2UXrc3",
        "outputId": "bfcc7d53-5de3-4a96-e603-cbfd3ac9a3d2",
        "colab": {
          "base_uri": "https://localhost:8080/",
          "height": 463
        }
      },
      "execution_count": null,
      "outputs": [
        {
          "output_type": "stream",
          "name": "stdout",
          "text": [
            "Epoch 1/10\n",
            "120/120 [==============================] - 2926s 24s/step - loss: 2.1172 - output_1_loss: 0.8919 - output_2_loss: 1.2253 - output_1_sparse_categorical_accuracy: 0.5984 - output_2_sparse_categorical_accuracy: 0.9224 - val_loss: 0.6132 - val_output_1_loss: 0.6132 - val_output_2_loss: 3.7824e-06 - val_output_1_sparse_categorical_accuracy: 0.7563 - val_output_2_sparse_categorical_accuracy: 1.0000\n",
            "Epoch 2/10\n",
            " 17/120 [===>..........................] - ETA: 38:12 - loss: 2.9010 - output_1_loss: 1.0546 - output_2_loss: 1.8463 - output_1_sparse_categorical_accuracy: 0.4301 - output_2_sparse_categorical_accuracy: 0.8235"
          ]
        },
        {
          "output_type": "error",
          "ename": "KeyboardInterrupt",
          "evalue": "",
          "traceback": [
            "\u001b[0;31m---------------------------------------------------------------------------\u001b[0m",
            "\u001b[0;31mKeyboardInterrupt\u001b[0m                         Traceback (most recent call last)",
            "\u001b[0;32m<ipython-input-139-341af58e5002>\u001b[0m in \u001b[0;36m<cell line: 6>\u001b[0;34m()\u001b[0m\n\u001b[1;32m      4\u001b[0m \u001b[0;34m\u001b[0m\u001b[0m\n\u001b[1;32m      5\u001b[0m \u001b[0;31m# Train the model\u001b[0m\u001b[0;34m\u001b[0m\u001b[0;34m\u001b[0m\u001b[0m\n\u001b[0;32m----> 6\u001b[0;31m history = model.fit(\n\u001b[0m\u001b[1;32m      7\u001b[0m     \u001b[0mtrain_dataset\u001b[0m\u001b[0;34m,\u001b[0m\u001b[0;34m\u001b[0m\u001b[0;34m\u001b[0m\u001b[0m\n\u001b[1;32m      8\u001b[0m     \u001b[0mepochs\u001b[0m\u001b[0;34m=\u001b[0m\u001b[0;36m10\u001b[0m\u001b[0;34m,\u001b[0m\u001b[0;34m\u001b[0m\u001b[0;34m\u001b[0m\u001b[0m\n",
            "\u001b[0;32m/usr/local/lib/python3.10/dist-packages/keras/src/utils/traceback_utils.py\u001b[0m in \u001b[0;36merror_handler\u001b[0;34m(*args, **kwargs)\u001b[0m\n\u001b[1;32m     63\u001b[0m         \u001b[0mfiltered_tb\u001b[0m \u001b[0;34m=\u001b[0m \u001b[0;32mNone\u001b[0m\u001b[0;34m\u001b[0m\u001b[0;34m\u001b[0m\u001b[0m\n\u001b[1;32m     64\u001b[0m         \u001b[0;32mtry\u001b[0m\u001b[0;34m:\u001b[0m\u001b[0;34m\u001b[0m\u001b[0;34m\u001b[0m\u001b[0m\n\u001b[0;32m---> 65\u001b[0;31m             \u001b[0;32mreturn\u001b[0m \u001b[0mfn\u001b[0m\u001b[0;34m(\u001b[0m\u001b[0;34m*\u001b[0m\u001b[0margs\u001b[0m\u001b[0;34m,\u001b[0m \u001b[0;34m**\u001b[0m\u001b[0mkwargs\u001b[0m\u001b[0;34m)\u001b[0m\u001b[0;34m\u001b[0m\u001b[0;34m\u001b[0m\u001b[0m\n\u001b[0m\u001b[1;32m     66\u001b[0m         \u001b[0;32mexcept\u001b[0m \u001b[0mException\u001b[0m \u001b[0;32mas\u001b[0m \u001b[0me\u001b[0m\u001b[0;34m:\u001b[0m\u001b[0;34m\u001b[0m\u001b[0;34m\u001b[0m\u001b[0m\n\u001b[1;32m     67\u001b[0m             \u001b[0mfiltered_tb\u001b[0m \u001b[0;34m=\u001b[0m \u001b[0m_process_traceback_frames\u001b[0m\u001b[0;34m(\u001b[0m\u001b[0me\u001b[0m\u001b[0;34m.\u001b[0m\u001b[0m__traceback__\u001b[0m\u001b[0;34m)\u001b[0m\u001b[0;34m\u001b[0m\u001b[0;34m\u001b[0m\u001b[0m\n",
            "\u001b[0;32m/usr/local/lib/python3.10/dist-packages/keras/src/engine/training.py\u001b[0m in \u001b[0;36mfit\u001b[0;34m(self, x, y, batch_size, epochs, verbose, callbacks, validation_split, validation_data, shuffle, class_weight, sample_weight, initial_epoch, steps_per_epoch, validation_steps, validation_batch_size, validation_freq, max_queue_size, workers, use_multiprocessing)\u001b[0m\n\u001b[1;32m   1805\u001b[0m                         ):\n\u001b[1;32m   1806\u001b[0m                             \u001b[0mcallbacks\u001b[0m\u001b[0;34m.\u001b[0m\u001b[0mon_train_batch_begin\u001b[0m\u001b[0;34m(\u001b[0m\u001b[0mstep\u001b[0m\u001b[0;34m)\u001b[0m\u001b[0;34m\u001b[0m\u001b[0;34m\u001b[0m\u001b[0m\n\u001b[0;32m-> 1807\u001b[0;31m                             \u001b[0mtmp_logs\u001b[0m \u001b[0;34m=\u001b[0m \u001b[0mself\u001b[0m\u001b[0;34m.\u001b[0m\u001b[0mtrain_function\u001b[0m\u001b[0;34m(\u001b[0m\u001b[0miterator\u001b[0m\u001b[0;34m)\u001b[0m\u001b[0;34m\u001b[0m\u001b[0;34m\u001b[0m\u001b[0m\n\u001b[0m\u001b[1;32m   1808\u001b[0m                             \u001b[0;32mif\u001b[0m \u001b[0mdata_handler\u001b[0m\u001b[0;34m.\u001b[0m\u001b[0mshould_sync\u001b[0m\u001b[0;34m:\u001b[0m\u001b[0;34m\u001b[0m\u001b[0;34m\u001b[0m\u001b[0m\n\u001b[1;32m   1809\u001b[0m                                 \u001b[0mcontext\u001b[0m\u001b[0;34m.\u001b[0m\u001b[0masync_wait\u001b[0m\u001b[0;34m(\u001b[0m\u001b[0;34m)\u001b[0m\u001b[0;34m\u001b[0m\u001b[0;34m\u001b[0m\u001b[0m\n",
            "\u001b[0;32m/usr/local/lib/python3.10/dist-packages/tensorflow/python/util/traceback_utils.py\u001b[0m in \u001b[0;36merror_handler\u001b[0;34m(*args, **kwargs)\u001b[0m\n\u001b[1;32m    148\u001b[0m     \u001b[0mfiltered_tb\u001b[0m \u001b[0;34m=\u001b[0m \u001b[0;32mNone\u001b[0m\u001b[0;34m\u001b[0m\u001b[0;34m\u001b[0m\u001b[0m\n\u001b[1;32m    149\u001b[0m     \u001b[0;32mtry\u001b[0m\u001b[0;34m:\u001b[0m\u001b[0;34m\u001b[0m\u001b[0;34m\u001b[0m\u001b[0m\n\u001b[0;32m--> 150\u001b[0;31m       \u001b[0;32mreturn\u001b[0m \u001b[0mfn\u001b[0m\u001b[0;34m(\u001b[0m\u001b[0;34m*\u001b[0m\u001b[0margs\u001b[0m\u001b[0;34m,\u001b[0m \u001b[0;34m**\u001b[0m\u001b[0mkwargs\u001b[0m\u001b[0;34m)\u001b[0m\u001b[0;34m\u001b[0m\u001b[0;34m\u001b[0m\u001b[0m\n\u001b[0m\u001b[1;32m    151\u001b[0m     \u001b[0;32mexcept\u001b[0m \u001b[0mException\u001b[0m \u001b[0;32mas\u001b[0m \u001b[0me\u001b[0m\u001b[0;34m:\u001b[0m\u001b[0;34m\u001b[0m\u001b[0;34m\u001b[0m\u001b[0m\n\u001b[1;32m    152\u001b[0m       \u001b[0mfiltered_tb\u001b[0m \u001b[0;34m=\u001b[0m \u001b[0m_process_traceback_frames\u001b[0m\u001b[0;34m(\u001b[0m\u001b[0me\u001b[0m\u001b[0;34m.\u001b[0m\u001b[0m__traceback__\u001b[0m\u001b[0;34m)\u001b[0m\u001b[0;34m\u001b[0m\u001b[0;34m\u001b[0m\u001b[0m\n",
            "\u001b[0;32m/usr/local/lib/python3.10/dist-packages/tensorflow/python/eager/polymorphic_function/polymorphic_function.py\u001b[0m in \u001b[0;36m__call__\u001b[0;34m(self, *args, **kwds)\u001b[0m\n\u001b[1;32m    830\u001b[0m \u001b[0;34m\u001b[0m\u001b[0m\n\u001b[1;32m    831\u001b[0m       \u001b[0;32mwith\u001b[0m \u001b[0mOptionalXlaContext\u001b[0m\u001b[0;34m(\u001b[0m\u001b[0mself\u001b[0m\u001b[0;34m.\u001b[0m\u001b[0m_jit_compile\u001b[0m\u001b[0;34m)\u001b[0m\u001b[0;34m:\u001b[0m\u001b[0;34m\u001b[0m\u001b[0;34m\u001b[0m\u001b[0m\n\u001b[0;32m--> 832\u001b[0;31m         \u001b[0mresult\u001b[0m \u001b[0;34m=\u001b[0m \u001b[0mself\u001b[0m\u001b[0;34m.\u001b[0m\u001b[0m_call\u001b[0m\u001b[0;34m(\u001b[0m\u001b[0;34m*\u001b[0m\u001b[0margs\u001b[0m\u001b[0;34m,\u001b[0m \u001b[0;34m**\u001b[0m\u001b[0mkwds\u001b[0m\u001b[0;34m)\u001b[0m\u001b[0;34m\u001b[0m\u001b[0;34m\u001b[0m\u001b[0m\n\u001b[0m\u001b[1;32m    833\u001b[0m \u001b[0;34m\u001b[0m\u001b[0m\n\u001b[1;32m    834\u001b[0m       \u001b[0mnew_tracing_count\u001b[0m \u001b[0;34m=\u001b[0m \u001b[0mself\u001b[0m\u001b[0;34m.\u001b[0m\u001b[0mexperimental_get_tracing_count\u001b[0m\u001b[0;34m(\u001b[0m\u001b[0;34m)\u001b[0m\u001b[0;34m\u001b[0m\u001b[0;34m\u001b[0m\u001b[0m\n",
            "\u001b[0;32m/usr/local/lib/python3.10/dist-packages/tensorflow/python/eager/polymorphic_function/polymorphic_function.py\u001b[0m in \u001b[0;36m_call\u001b[0;34m(self, *args, **kwds)\u001b[0m\n\u001b[1;32m    866\u001b[0m       \u001b[0;31m# In this case we have created variables on the first call, so we run the\u001b[0m\u001b[0;34m\u001b[0m\u001b[0;34m\u001b[0m\u001b[0m\n\u001b[1;32m    867\u001b[0m       \u001b[0;31m# defunned version which is guaranteed to never create variables.\u001b[0m\u001b[0;34m\u001b[0m\u001b[0;34m\u001b[0m\u001b[0m\n\u001b[0;32m--> 868\u001b[0;31m       return tracing_compilation.call_function(\n\u001b[0m\u001b[1;32m    869\u001b[0m           \u001b[0margs\u001b[0m\u001b[0;34m,\u001b[0m \u001b[0mkwds\u001b[0m\u001b[0;34m,\u001b[0m \u001b[0mself\u001b[0m\u001b[0;34m.\u001b[0m\u001b[0m_no_variable_creation_config\u001b[0m\u001b[0;34m\u001b[0m\u001b[0;34m\u001b[0m\u001b[0m\n\u001b[1;32m    870\u001b[0m       )\n",
            "\u001b[0;32m/usr/local/lib/python3.10/dist-packages/tensorflow/python/eager/polymorphic_function/tracing_compilation.py\u001b[0m in \u001b[0;36mcall_function\u001b[0;34m(args, kwargs, tracing_options)\u001b[0m\n\u001b[1;32m    137\u001b[0m   \u001b[0mbound_args\u001b[0m \u001b[0;34m=\u001b[0m \u001b[0mfunction\u001b[0m\u001b[0;34m.\u001b[0m\u001b[0mfunction_type\u001b[0m\u001b[0;34m.\u001b[0m\u001b[0mbind\u001b[0m\u001b[0;34m(\u001b[0m\u001b[0;34m*\u001b[0m\u001b[0margs\u001b[0m\u001b[0;34m,\u001b[0m \u001b[0;34m**\u001b[0m\u001b[0mkwargs\u001b[0m\u001b[0;34m)\u001b[0m\u001b[0;34m\u001b[0m\u001b[0;34m\u001b[0m\u001b[0m\n\u001b[1;32m    138\u001b[0m   \u001b[0mflat_inputs\u001b[0m \u001b[0;34m=\u001b[0m \u001b[0mfunction\u001b[0m\u001b[0;34m.\u001b[0m\u001b[0mfunction_type\u001b[0m\u001b[0;34m.\u001b[0m\u001b[0munpack_inputs\u001b[0m\u001b[0;34m(\u001b[0m\u001b[0mbound_args\u001b[0m\u001b[0;34m)\u001b[0m\u001b[0;34m\u001b[0m\u001b[0;34m\u001b[0m\u001b[0m\n\u001b[0;32m--> 139\u001b[0;31m   return function._call_flat(  # pylint: disable=protected-access\n\u001b[0m\u001b[1;32m    140\u001b[0m       \u001b[0mflat_inputs\u001b[0m\u001b[0;34m,\u001b[0m \u001b[0mcaptured_inputs\u001b[0m\u001b[0;34m=\u001b[0m\u001b[0mfunction\u001b[0m\u001b[0;34m.\u001b[0m\u001b[0mcaptured_inputs\u001b[0m\u001b[0;34m\u001b[0m\u001b[0;34m\u001b[0m\u001b[0m\n\u001b[1;32m    141\u001b[0m   )\n",
            "\u001b[0;32m/usr/local/lib/python3.10/dist-packages/tensorflow/python/eager/polymorphic_function/concrete_function.py\u001b[0m in \u001b[0;36m_call_flat\u001b[0;34m(self, tensor_inputs, captured_inputs)\u001b[0m\n\u001b[1;32m   1321\u001b[0m         and executing_eagerly):\n\u001b[1;32m   1322\u001b[0m       \u001b[0;31m# No tape is watching; skip to running the function.\u001b[0m\u001b[0;34m\u001b[0m\u001b[0;34m\u001b[0m\u001b[0m\n\u001b[0;32m-> 1323\u001b[0;31m       \u001b[0;32mreturn\u001b[0m \u001b[0mself\u001b[0m\u001b[0;34m.\u001b[0m\u001b[0m_inference_function\u001b[0m\u001b[0;34m.\u001b[0m\u001b[0mcall_preflattened\u001b[0m\u001b[0;34m(\u001b[0m\u001b[0margs\u001b[0m\u001b[0;34m)\u001b[0m\u001b[0;34m\u001b[0m\u001b[0;34m\u001b[0m\u001b[0m\n\u001b[0m\u001b[1;32m   1324\u001b[0m     forward_backward = self._select_forward_and_backward_functions(\n\u001b[1;32m   1325\u001b[0m         \u001b[0margs\u001b[0m\u001b[0;34m,\u001b[0m\u001b[0;34m\u001b[0m\u001b[0;34m\u001b[0m\u001b[0m\n",
            "\u001b[0;32m/usr/local/lib/python3.10/dist-packages/tensorflow/python/eager/polymorphic_function/atomic_function.py\u001b[0m in \u001b[0;36mcall_preflattened\u001b[0;34m(self, args)\u001b[0m\n\u001b[1;32m    214\u001b[0m   \u001b[0;32mdef\u001b[0m \u001b[0mcall_preflattened\u001b[0m\u001b[0;34m(\u001b[0m\u001b[0mself\u001b[0m\u001b[0;34m,\u001b[0m \u001b[0margs\u001b[0m\u001b[0;34m:\u001b[0m \u001b[0mSequence\u001b[0m\u001b[0;34m[\u001b[0m\u001b[0mcore\u001b[0m\u001b[0;34m.\u001b[0m\u001b[0mTensor\u001b[0m\u001b[0;34m]\u001b[0m\u001b[0;34m)\u001b[0m \u001b[0;34m->\u001b[0m \u001b[0mAny\u001b[0m\u001b[0;34m:\u001b[0m\u001b[0;34m\u001b[0m\u001b[0;34m\u001b[0m\u001b[0m\n\u001b[1;32m    215\u001b[0m     \u001b[0;34m\"\"\"Calls with flattened tensor inputs and returns the structured output.\"\"\"\u001b[0m\u001b[0;34m\u001b[0m\u001b[0;34m\u001b[0m\u001b[0m\n\u001b[0;32m--> 216\u001b[0;31m     \u001b[0mflat_outputs\u001b[0m \u001b[0;34m=\u001b[0m \u001b[0mself\u001b[0m\u001b[0;34m.\u001b[0m\u001b[0mcall_flat\u001b[0m\u001b[0;34m(\u001b[0m\u001b[0;34m*\u001b[0m\u001b[0margs\u001b[0m\u001b[0;34m)\u001b[0m\u001b[0;34m\u001b[0m\u001b[0;34m\u001b[0m\u001b[0m\n\u001b[0m\u001b[1;32m    217\u001b[0m     \u001b[0;32mreturn\u001b[0m \u001b[0mself\u001b[0m\u001b[0;34m.\u001b[0m\u001b[0mfunction_type\u001b[0m\u001b[0;34m.\u001b[0m\u001b[0mpack_output\u001b[0m\u001b[0;34m(\u001b[0m\u001b[0mflat_outputs\u001b[0m\u001b[0;34m)\u001b[0m\u001b[0;34m\u001b[0m\u001b[0;34m\u001b[0m\u001b[0m\n\u001b[1;32m    218\u001b[0m \u001b[0;34m\u001b[0m\u001b[0m\n",
            "\u001b[0;32m/usr/local/lib/python3.10/dist-packages/tensorflow/python/eager/polymorphic_function/atomic_function.py\u001b[0m in \u001b[0;36mcall_flat\u001b[0;34m(self, *args)\u001b[0m\n\u001b[1;32m    249\u001b[0m         \u001b[0;32mwith\u001b[0m \u001b[0mrecord\u001b[0m\u001b[0;34m.\u001b[0m\u001b[0mstop_recording\u001b[0m\u001b[0;34m(\u001b[0m\u001b[0;34m)\u001b[0m\u001b[0;34m:\u001b[0m\u001b[0;34m\u001b[0m\u001b[0;34m\u001b[0m\u001b[0m\n\u001b[1;32m    250\u001b[0m           \u001b[0;32mif\u001b[0m \u001b[0mself\u001b[0m\u001b[0;34m.\u001b[0m\u001b[0m_bound_context\u001b[0m\u001b[0;34m.\u001b[0m\u001b[0mexecuting_eagerly\u001b[0m\u001b[0;34m(\u001b[0m\u001b[0;34m)\u001b[0m\u001b[0;34m:\u001b[0m\u001b[0;34m\u001b[0m\u001b[0;34m\u001b[0m\u001b[0m\n\u001b[0;32m--> 251\u001b[0;31m             outputs = self._bound_context.call_function(\n\u001b[0m\u001b[1;32m    252\u001b[0m                 \u001b[0mself\u001b[0m\u001b[0;34m.\u001b[0m\u001b[0mname\u001b[0m\u001b[0;34m,\u001b[0m\u001b[0;34m\u001b[0m\u001b[0;34m\u001b[0m\u001b[0m\n\u001b[1;32m    253\u001b[0m                 \u001b[0mlist\u001b[0m\u001b[0;34m(\u001b[0m\u001b[0margs\u001b[0m\u001b[0;34m)\u001b[0m\u001b[0;34m,\u001b[0m\u001b[0;34m\u001b[0m\u001b[0;34m\u001b[0m\u001b[0m\n",
            "\u001b[0;32m/usr/local/lib/python3.10/dist-packages/tensorflow/python/eager/context.py\u001b[0m in \u001b[0;36mcall_function\u001b[0;34m(self, name, tensor_inputs, num_outputs)\u001b[0m\n\u001b[1;32m   1484\u001b[0m     \u001b[0mcancellation_context\u001b[0m \u001b[0;34m=\u001b[0m \u001b[0mcancellation\u001b[0m\u001b[0;34m.\u001b[0m\u001b[0mcontext\u001b[0m\u001b[0;34m(\u001b[0m\u001b[0;34m)\u001b[0m\u001b[0;34m\u001b[0m\u001b[0;34m\u001b[0m\u001b[0m\n\u001b[1;32m   1485\u001b[0m     \u001b[0;32mif\u001b[0m \u001b[0mcancellation_context\u001b[0m \u001b[0;32mis\u001b[0m \u001b[0;32mNone\u001b[0m\u001b[0;34m:\u001b[0m\u001b[0;34m\u001b[0m\u001b[0;34m\u001b[0m\u001b[0m\n\u001b[0;32m-> 1486\u001b[0;31m       outputs = execute.execute(\n\u001b[0m\u001b[1;32m   1487\u001b[0m           \u001b[0mname\u001b[0m\u001b[0;34m.\u001b[0m\u001b[0mdecode\u001b[0m\u001b[0;34m(\u001b[0m\u001b[0;34m\"utf-8\"\u001b[0m\u001b[0;34m)\u001b[0m\u001b[0;34m,\u001b[0m\u001b[0;34m\u001b[0m\u001b[0;34m\u001b[0m\u001b[0m\n\u001b[1;32m   1488\u001b[0m           \u001b[0mnum_outputs\u001b[0m\u001b[0;34m=\u001b[0m\u001b[0mnum_outputs\u001b[0m\u001b[0;34m,\u001b[0m\u001b[0;34m\u001b[0m\u001b[0;34m\u001b[0m\u001b[0m\n",
            "\u001b[0;32m/usr/local/lib/python3.10/dist-packages/tensorflow/python/eager/execute.py\u001b[0m in \u001b[0;36mquick_execute\u001b[0;34m(op_name, num_outputs, inputs, attrs, ctx, name)\u001b[0m\n\u001b[1;32m     51\u001b[0m   \u001b[0;32mtry\u001b[0m\u001b[0;34m:\u001b[0m\u001b[0;34m\u001b[0m\u001b[0;34m\u001b[0m\u001b[0m\n\u001b[1;32m     52\u001b[0m     \u001b[0mctx\u001b[0m\u001b[0;34m.\u001b[0m\u001b[0mensure_initialized\u001b[0m\u001b[0;34m(\u001b[0m\u001b[0;34m)\u001b[0m\u001b[0;34m\u001b[0m\u001b[0;34m\u001b[0m\u001b[0m\n\u001b[0;32m---> 53\u001b[0;31m     tensors = pywrap_tfe.TFE_Py_Execute(ctx._handle, device_name, op_name,\n\u001b[0m\u001b[1;32m     54\u001b[0m                                         inputs, attrs, num_outputs)\n\u001b[1;32m     55\u001b[0m   \u001b[0;32mexcept\u001b[0m \u001b[0mcore\u001b[0m\u001b[0;34m.\u001b[0m\u001b[0m_NotOkStatusException\u001b[0m \u001b[0;32mas\u001b[0m \u001b[0me\u001b[0m\u001b[0;34m:\u001b[0m\u001b[0;34m\u001b[0m\u001b[0;34m\u001b[0m\u001b[0m\n",
            "\u001b[0;31mKeyboardInterrupt\u001b[0m: "
          ]
        }
      ]
    },
    {
      "cell_type": "code",
      "source": [
        "# Training setup\n",
        "optimizer = AdamW(model.parameters(), lr=5e-5)\n",
        "loss_fn = torch.nn.CrossEntropyLoss()\n",
        "epochs = 10\n",
        "early_stopping_patience = 3\n",
        "best_val_loss = float('inf')\n",
        "patience_counter = 0\n",
        "\n",
        "train_losses = []\n",
        "val_losses = []\n",
        "\n",
        "# Training loop\n",
        "for epoch in range(epochs):\n",
        "    model.train()\n",
        "    total_loss = 0\n",
        "\n",
        "    for batch in train_dataloader:\n",
        "        b_input_ids, b_attention_mask, b_labels_review, b_labels_sentiment = batch\n",
        "\n",
        "        optimizer.zero_grad()\n",
        "\n",
        "        logits_review, logits_sentiment = model(b_input_ids, attention_mask=b_attention_mask)\n",
        "\n",
        "        loss_review = loss_fn(logits_review, b_labels_review)\n",
        "        loss_sentiment = loss_fn(logits_sentiment, b_labels_sentiment)\n",
        "        loss = loss_review + loss_sentiment\n",
        "\n",
        "        loss.backward()\n",
        "        optimizer.step()\n",
        "\n",
        "        total_loss += loss.item()\n",
        "\n",
        "    avg_train_loss = total_loss / len(train_dataloader)\n",
        "    train_losses.append(avg_train_loss)\n",
        "\n",
        "    # Validation loop\n",
        "    model.eval()\n",
        "    total_val_loss = 0\n",
        "\n",
        "    with torch.no_grad():\n",
        "        for batch in val_dataloader:\n",
        "            b_input_ids, b_attention_mask, b_labels_review, b_labels_sentiment = batch\n",
        "\n",
        "            logits_review, logits_sentiment = model(b_input_ids, attention_mask=b_attention_mask)\n",
        "\n",
        "            loss_review = loss_fn(logits_review, b_labels_review)\n",
        "            loss_sentiment = loss_fn(logits_sentiment, b_labels_sentiment)\n",
        "            loss = loss_review + loss_sentiment\n",
        "\n",
        "            total_val_loss += loss.item()\n",
        "\n",
        "    avg_val_loss = total_val_loss / len(val_dataloader)\n",
        "    val_losses.append(avg_val_loss)\n",
        "\n",
        "    print(f'Epoch {epoch + 1}/{epochs}')\n",
        "    print(f'Training loss: {avg_train_loss:.4f}')\n",
        "    print(f'Validation loss: {avg_val_loss:.4f}')\n",
        "\n",
        "    # Early stopping\n",
        "    if avg_val_loss < best_val_loss:\n",
        "        best_val_loss = avg_val_loss\n",
        "        patience_counter = 0\n",
        "        torch.save(model.state_dict(), 'best_model.pt')\n",
        "    else:\n",
        "        patience_counter += 1\n",
        "\n",
        "    if patience_counter >= early_stopping_patience:\n",
        "        print('Early stopping triggered')\n",
        "        break\n",
        "\n",
        "# Load best model\n",
        "model.load_state_dict(torch.load('best_model.pt'))\n",
        "\n",
        "# Plot learning curve\n",
        "plt.plot(train_losses, label='Training loss')\n",
        "plt.plot(val_losses, label='Validation loss')\n",
        "plt.xlabel('Epochs')\n",
        "plt.ylabel('Loss')\n",
        "plt.legend()\n",
        "plt.show()\n"
      ],
      "metadata": {
        "id": "BxdMhnprUUWa",
        "outputId": "c7806a23-c4d6-402c-b377-efc6ca82fc9b",
        "colab": {
          "base_uri": "https://localhost:8080/",
          "height": 391
        }
      },
      "execution_count": null,
      "outputs": [
        {
          "output_type": "error",
          "ename": "KeyboardInterrupt",
          "evalue": "",
          "traceback": [
            "\u001b[0;31m---------------------------------------------------------------------------\u001b[0m",
            "\u001b[0;31mKeyboardInterrupt\u001b[0m                         Traceback (most recent call last)",
            "\u001b[0;32m<ipython-input-132-cd897afccf82>\u001b[0m in \u001b[0;36m<cell line: 13>\u001b[0;34m()\u001b[0m\n\u001b[1;32m     26\u001b[0m         \u001b[0mloss\u001b[0m \u001b[0;34m=\u001b[0m \u001b[0mloss_review\u001b[0m \u001b[0;34m+\u001b[0m \u001b[0mloss_sentiment\u001b[0m\u001b[0;34m\u001b[0m\u001b[0;34m\u001b[0m\u001b[0m\n\u001b[1;32m     27\u001b[0m \u001b[0;34m\u001b[0m\u001b[0m\n\u001b[0;32m---> 28\u001b[0;31m         \u001b[0mloss\u001b[0m\u001b[0;34m.\u001b[0m\u001b[0mbackward\u001b[0m\u001b[0;34m(\u001b[0m\u001b[0;34m)\u001b[0m\u001b[0;34m\u001b[0m\u001b[0;34m\u001b[0m\u001b[0m\n\u001b[0m\u001b[1;32m     29\u001b[0m         \u001b[0moptimizer\u001b[0m\u001b[0;34m.\u001b[0m\u001b[0mstep\u001b[0m\u001b[0;34m(\u001b[0m\u001b[0;34m)\u001b[0m\u001b[0;34m\u001b[0m\u001b[0;34m\u001b[0m\u001b[0m\n\u001b[1;32m     30\u001b[0m \u001b[0;34m\u001b[0m\u001b[0m\n",
            "\u001b[0;32m/usr/local/lib/python3.10/dist-packages/torch/_tensor.py\u001b[0m in \u001b[0;36mbackward\u001b[0;34m(self, gradient, retain_graph, create_graph, inputs)\u001b[0m\n\u001b[1;32m    523\u001b[0m                 \u001b[0minputs\u001b[0m\u001b[0;34m=\u001b[0m\u001b[0minputs\u001b[0m\u001b[0;34m,\u001b[0m\u001b[0;34m\u001b[0m\u001b[0;34m\u001b[0m\u001b[0m\n\u001b[1;32m    524\u001b[0m             )\n\u001b[0;32m--> 525\u001b[0;31m         torch.autograd.backward(\n\u001b[0m\u001b[1;32m    526\u001b[0m             \u001b[0mself\u001b[0m\u001b[0;34m,\u001b[0m \u001b[0mgradient\u001b[0m\u001b[0;34m,\u001b[0m \u001b[0mretain_graph\u001b[0m\u001b[0;34m,\u001b[0m \u001b[0mcreate_graph\u001b[0m\u001b[0;34m,\u001b[0m \u001b[0minputs\u001b[0m\u001b[0;34m=\u001b[0m\u001b[0minputs\u001b[0m\u001b[0;34m\u001b[0m\u001b[0;34m\u001b[0m\u001b[0m\n\u001b[1;32m    527\u001b[0m         )\n",
            "\u001b[0;32m/usr/local/lib/python3.10/dist-packages/torch/autograd/__init__.py\u001b[0m in \u001b[0;36mbackward\u001b[0;34m(tensors, grad_tensors, retain_graph, create_graph, grad_variables, inputs)\u001b[0m\n\u001b[1;32m    265\u001b[0m     \u001b[0;31m# some Python versions print out the first line of a multi-line function\u001b[0m\u001b[0;34m\u001b[0m\u001b[0;34m\u001b[0m\u001b[0m\n\u001b[1;32m    266\u001b[0m     \u001b[0;31m# calls in the traceback and some print out the last line\u001b[0m\u001b[0;34m\u001b[0m\u001b[0;34m\u001b[0m\u001b[0m\n\u001b[0;32m--> 267\u001b[0;31m     _engine_run_backward(\n\u001b[0m\u001b[1;32m    268\u001b[0m         \u001b[0mtensors\u001b[0m\u001b[0;34m,\u001b[0m\u001b[0;34m\u001b[0m\u001b[0;34m\u001b[0m\u001b[0m\n\u001b[1;32m    269\u001b[0m         \u001b[0mgrad_tensors_\u001b[0m\u001b[0;34m,\u001b[0m\u001b[0;34m\u001b[0m\u001b[0;34m\u001b[0m\u001b[0m\n",
            "\u001b[0;32m/usr/local/lib/python3.10/dist-packages/torch/autograd/graph.py\u001b[0m in \u001b[0;36m_engine_run_backward\u001b[0;34m(t_outputs, *args, **kwargs)\u001b[0m\n\u001b[1;32m    742\u001b[0m         \u001b[0munregister_hooks\u001b[0m \u001b[0;34m=\u001b[0m \u001b[0m_register_logging_hooks_on_whole_graph\u001b[0m\u001b[0;34m(\u001b[0m\u001b[0mt_outputs\u001b[0m\u001b[0;34m)\u001b[0m\u001b[0;34m\u001b[0m\u001b[0;34m\u001b[0m\u001b[0m\n\u001b[1;32m    743\u001b[0m     \u001b[0;32mtry\u001b[0m\u001b[0;34m:\u001b[0m\u001b[0;34m\u001b[0m\u001b[0;34m\u001b[0m\u001b[0m\n\u001b[0;32m--> 744\u001b[0;31m         return Variable._execution_engine.run_backward(  # Calls into the C++ engine to run the backward pass\n\u001b[0m\u001b[1;32m    745\u001b[0m             \u001b[0mt_outputs\u001b[0m\u001b[0;34m,\u001b[0m \u001b[0;34m*\u001b[0m\u001b[0margs\u001b[0m\u001b[0;34m,\u001b[0m \u001b[0;34m**\u001b[0m\u001b[0mkwargs\u001b[0m\u001b[0;34m\u001b[0m\u001b[0;34m\u001b[0m\u001b[0m\n\u001b[1;32m    746\u001b[0m         )  # Calls into the C++ engine to run the backward pass\n",
            "\u001b[0;31mKeyboardInterrupt\u001b[0m: "
          ]
        }
      ]
    },
    {
      "cell_type": "markdown",
      "source": [
        "### Train"
      ],
      "metadata": {
        "id": "CrJgw4FemRMF"
      }
    },
    {
      "cell_type": "markdown",
      "source": [
        "# TEST RESULT"
      ],
      "metadata": {
        "id": "KscphwRQlBYD"
      }
    },
    {
      "cell_type": "code",
      "source": [
        "# Function for prediction with percentage\n",
        "def predict_review_with_percentage(model, tokenizer, review_text):\n",
        "    sequence = tokenizer.texts_to_sequences([review_text])\n",
        "    padded_sequence = pad_sequences(sequence, maxlen=max_sequence_length)\n",
        "    prediction = model.predict(padded_sequence)\n",
        "\n",
        "    review_pred = label_encoder_review.inverse_transform(np.argmax(prediction[0], axis=1))[0]\n",
        "    sentiment_pred = label_encoder_sentiment.inverse_transform(np.argmax(prediction[1], axis=1))[0]\n",
        "\n",
        "    # Calculate percentage\n",
        "    review_percentage = np.max(prediction[0]) * 100\n",
        "    sentiment_percentage = np.max(prediction[1]) * 100\n",
        "\n",
        "    return review_pred, review_percentage, sentiment_pred, sentiment_percentage\n",
        "\n",
        "\n",
        "\n",
        "# Function to predict star rating based on sentiment percentage\n",
        "def predict_star_rating(sentiment_percentage):\n",
        "    if sentiment_percentage <= 20:\n",
        "        return 1\n",
        "    elif sentiment_percentage <= 40:\n",
        "        return 2\n",
        "    elif sentiment_percentage <= 60:\n",
        "        return 3\n",
        "    elif sentiment_percentage <= 80:\n",
        "        return 4\n",
        "    else:\n",
        "        return 5\n",
        "\n",
        "\n"
      ],
      "metadata": {
        "execution": {
          "iopub.status.busy": "2024-05-28T00:03:28.581118Z",
          "iopub.execute_input": "2024-05-28T00:03:28.581543Z",
          "iopub.status.idle": "2024-05-28T00:03:28.592432Z",
          "shell.execute_reply.started": "2024-05-28T00:03:28.581503Z",
          "shell.execute_reply": "2024-05-28T00:03:28.591043Z"
        },
        "trusted": true,
        "id": "5CCwkbrFMrdB"
      },
      "execution_count": null,
      "outputs": []
    },
    {
      "cell_type": "markdown",
      "source": [],
      "metadata": {
        "id": "k3HzIAjfmMhJ"
      }
    },
    {
      "cell_type": "code",
      "source": [
        "# Example usage by user input\n",
        "user_review = input(\"Masukkan review produk: \")\n",
        "review_pred, review_percentage, sentiment_pred, sentiment_percentage = predict_review_with_percentage(model, tokenizer, user_review)\n",
        "\n",
        "# Predict star rating based on sentiment percentage\n",
        "star_rating = predict_star_rating(sentiment_percentage)\n",
        "print(' ________________  Review Analysis Result ______________')\n",
        "print(f'| Review : {review_pred} - Percentage: {review_percentage:.2f}%','                    |')\n",
        "print(f'| Sentiment : {sentiment_pred} - Percentage: {sentiment_percentage:.2f}%','            |')\n",
        "print(f'| Star Rating: {star_rating}','                                       |')\n",
        "print(' -------------------------------------------------------')"
      ],
      "metadata": {
        "execution": {
          "iopub.status.busy": "2024-05-28T00:03:28.594221Z",
          "iopub.execute_input": "2024-05-28T00:03:28.594733Z",
          "iopub.status.idle": "2024-05-28T00:03:45.432637Z",
          "shell.execute_reply.started": "2024-05-28T00:03:28.594659Z",
          "shell.execute_reply": "2024-05-28T00:03:45.431470Z"
        },
        "trusted": true,
        "id": "TiShf0zoMrdB"
      },
      "execution_count": null,
      "outputs": []
    }
  ]
}